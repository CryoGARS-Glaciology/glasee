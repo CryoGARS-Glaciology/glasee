{
 "cells": [
  {
   "cell_type": "markdown",
   "id": "679c57e8",
   "metadata": {},
   "source": [
    "# GlaSEE pipeline\n",
    "\n",
    "Full classification pipeline for Sentinel-2 TOA, Sentinel-2 SR, and Landsat 8/9 images. \n",
    "\n",
    "## Requirements:\n",
    "1. Google Earth Engine (GEE) account: used to query imagery and the DEM (if no DEM is provided). Sign up for a free account [here](https://earthengine.google.com/new_signup/). \n",
    "\n",
    "2. Google Drive folder: Create a folder where output snow cover statistics will be saved. Enter the name of this folder as the `out_folder` variable below. If you don't create the folder ahead of time, duplicates of the same folder will be created for each output file!"
   ]
  },
  {
   "cell_type": "markdown",
   "id": "2b90f0f8",
   "metadata": {},
   "source": [
    "## Define image search settings and paths"
   ]
  },
  {
   "cell_type": "code",
   "execution_count": null,
   "id": "46d472ad",
   "metadata": {},
   "outputs": [],
   "source": [
    "import os\n",
    "import ee\n",
    "import geemap\n",
    "import sys\n",
    "\n",
    "# -----Define Google Drive folder for outputs\n",
    "# Note: Make sure this folder already exists and is the only folder in your \"My Drive\" with that name. \n",
    "out_folder = 'glacier_snow_cover_exports'\n",
    "\n",
    "# -----Import pipeline utilities\n",
    "# Assumes pipeline_utils.py is in the same folder as this notebook\n",
    "script_path = os.getcwd()\n",
    "sys.path.append(script_path)\n",
    "import glasee_pipeline_utils as utils\n",
    "\n",
    "# -----Define image search settings\n",
    "# Date and month ranges (inclusive)\n",
    "date_start = '2014-05-01'\n",
    "date_end = '2024-10-31'\n",
    "month_start = 5\n",
    "month_end = 10\n",
    "# Minimum fill portion percentage of the AOI (0–100), used to remove images after mosaicking by day. \n",
    "min_aoi_coverage = 70\n",
    "# Whether to mask clouds using the respective cloud mask via the geedim package\n",
    "mask_clouds = True"
   ]
  },
  {
   "cell_type": "markdown",
   "id": "2e1fe38a",
   "metadata": {},
   "source": [
    "## Authenticate and/or Initialize Google Earth Engine (GEE)\n",
    "\n",
    "Replace the project ID with your GEE project. Default = `ee-{GEE-username}`"
   ]
  },
  {
   "cell_type": "code",
   "execution_count": null,
   "id": "c276471a",
   "metadata": {},
   "outputs": [],
   "source": [
    "project_id = \"ee-raineyaberle\"\n",
    "\n",
    "try:\n",
    "    ee.Initialize(project=project_id)\n",
    "except:\n",
    "    ee.Authenticate()\n",
    "    ee.Initialize(project=project_id)"
   ]
  },
  {
   "cell_type": "markdown",
   "id": "2730e1cf",
   "metadata": {},
   "source": [
    "## Run the pipeline for a single glacier\n",
    "\n",
    "### Select the Area of Interest (AOI) from the Randolph Glacier Inventory (RGI) dataset\n",
    "\n",
    "This cell will plot the RGI dataset on a map. To find a glacier, click on the wrench in the upper right toolbox of the map, and use the \"Inspector\" to click on a polygon and view the its properties. Right click on the \"rgi_id\" property to highlight and then copy. Replace the `rgi_id` variable below with your selected site. "
   ]
  },
  {
   "cell_type": "code",
   "execution_count": null,
   "id": "6b29f48c",
   "metadata": {},
   "outputs": [],
   "source": [
    "# Load the RGI v7 dataset\n",
    "rgi = ee.FeatureCollection(\"projects/ee-raineyaberle/assets/glacier-snow-cover-mapping/RGI2000-v7-G\")\n",
    "\n",
    "# Select a glacier by the RGI v7 ID\n",
    "rgi_id = 'RGI2000-v7.0-G-01-11350'\n",
    "                                 \n",
    "# Grab the geometry\n",
    "aoi = rgi.filter(ee.Filter.eq('rgi_id', rgi_id))\n",
    "aoi = aoi.geometry()\n",
    "aoi_area = aoi.area().getInfo() # save area [m^2] for splitting date ranges later\n",
    "print(f\"Glacier area = {int(aoi_area/1e6)} km2\")\n",
    "\n",
    "# Create a Map\n",
    "Map = geemap.Map()\n",
    "Map.addLayer(rgi, {'color': 'blue', 'opacity':  0.5}, 'RGI v7')\n",
    "Map.addLayer(aoi, {'color': 'orange', 'opacity': 0.8}, 'AOI')\n",
    "Map.centerObject(aoi)\n",
    "Map"
   ]
  },
  {
   "cell_type": "markdown",
   "id": "40ca915f",
   "metadata": {},
   "source": [
    "### Load the Digital Elevation Model (DEM)\n",
    "\n",
    "Default: use the ArcticDEM Mosaic where there is > 90 % coverage. Otherwise, use the NASADEM. For sites that use the ArcticDEM Mosaic, elevations are reprojected to the EGM96 geoid to match the vertical datum of NASADEM. "
   ]
  },
  {
   "cell_type": "code",
   "execution_count": null,
   "id": "2fe69f32",
   "metadata": {},
   "outputs": [],
   "source": [
    "# Query GEE for DEM\n",
    "dem = utils.query_gee_for_dem(aoi)\n",
    "\n",
    "# Add DEM to map\n",
    "# grab min and max elevations for color limits\n",
    "minMax = dem.reduceRegion(reducer=ee.Reducer.minMax(),\n",
    "                          geometry=aoi, \n",
    "                          scale=30,\n",
    "                          maxPixels=1e9,\n",
    "                          bestEffort=True)\n",
    "elev_min = minMax.get('elevation_min')\n",
    "elev_max = minMax.get('elevation_max')\n",
    "print(f'Elevation range = {int(elev_min.getInfo())} to {int(elev_max.getInfo())} m')\n",
    "# colors based on the \"terrain\" palette from matplotlib\n",
    "palette = ['#333399', '#0d7fe5', '#00be90','#55dd77','#c6f48e','#e3db8a','#aa926b','#8e6e67','#c6b6b3','#ffffff']\n",
    "Map.addLayer(dem, {'palette': palette, 'min': elev_min, 'max': elev_max}, 'DEM')"
   ]
  },
  {
   "cell_type": "markdown",
   "id": "5cb54d54",
   "metadata": {},
   "source": [
    "Run Sentinel-2 Top of Atmosphere (TOA): 2016 onwards"
   ]
  },
  {
   "cell_type": "code",
   "execution_count": null,
   "id": "775d2a91",
   "metadata": {
    "scrolled": true
   },
   "outputs": [],
   "source": [
    "dataset = \"Sentinel-2_TOA\"\n",
    "utils.run_classification_pipeline(aoi, aoi_area, dem, dataset, date_start, date_end, month_start, month_end, \n",
    "                                  min_aoi_coverage, mask_clouds, out_folder, rgi_id, scale=None, verbose=False)"
   ]
  },
  {
   "cell_type": "markdown",
   "id": "bda52169",
   "metadata": {},
   "source": [
    "Run Sentinel-2 Surface Reflectance (SR): 2019 onwards"
   ]
  },
  {
   "cell_type": "code",
   "execution_count": null,
   "id": "635b8117",
   "metadata": {},
   "outputs": [],
   "source": [
    "dataset = \"Sentinel-2_SR\"\n",
    "utils.run_classification_pipeline(aoi, aoi_area, dem, dataset, date_start, date_end, month_start, month_end, \n",
    "                                  min_aoi_coverage, mask_clouds, out_folder, rgi_id, scale=None, verbose=False)"
   ]
  },
  {
   "cell_type": "markdown",
   "id": "4c9aa464",
   "metadata": {},
   "source": [
    "Run Landsat 8/9 SR: 2013 onwards"
   ]
  },
  {
   "cell_type": "code",
   "execution_count": null,
   "id": "a7765329",
   "metadata": {},
   "outputs": [],
   "source": [
    "dataset = \"Landsat\"\n",
    "utils.run_classification_pipeline(aoi, aoi_area, dem, dataset, date_start, date_end, month_start, month_end, \n",
    "                                  min_aoi_coverage, mask_clouds, out_folder, rgi_id, scale=None, verbose=False)"
   ]
  },
  {
   "cell_type": "markdown",
   "id": "c6238f5a-128f-4c5a-8095-8ed5b762f38f",
   "metadata": {},
   "source": [
    "## Run the pipeline for multiple glaciers\n",
    "\n",
    "First, create a list of glacier IDs for analysis. \n",
    "\n",
    "Below is an example selection of glaciers, where the full RGI v. 7 collection is filtered by RGI O2 region (\"o2region\") and area (\"area_km2\"). For the full list of properties available for filtering, see the [RGI v. 7 documentation](https://www.glims.org/rgi_user_guide/products/glacier_product.html#full-list-of-attributes) or run the following command: \n",
    "\n",
    "`rgi.first().propertyNames().getInfo()`"
   ]
  },
  {
   "cell_type": "code",
   "execution_count": null,
   "id": "aacaa02f-2eab-4798-92ff-b55b17a5b9e2",
   "metadata": {},
   "outputs": [],
   "source": [
    "# Load the RGI v. 7 dataset\n",
    "rgi = ee.FeatureCollection(\"projects/ee-raineyaberle/assets/glacier-snow-cover-mapping/RGI2000-v7-G\")\n",
    "\n",
    "# Filter by region and subregion\n",
    "rgi_r1r2 = rgi.filter(ee.Filter.eq('o2region', '01-05')) # filter by RGI subregion (e.g., \"01-05\" = Alaska, St. Elias)\n",
    "\n",
    "# Filter by glacier area\n",
    "rgi_area_filt = rgi_r1r2.filter(ee.Filter.gt('area_km2', 1)) # area > 1 km2\n",
    "rgi_area_filt = rgi_area_filt.filter(ee.Filter.lt('area_km2', 3000)) # area < 3000 km2\n",
    "\n",
    "# Get the list of RGI IDs\n",
    "id_list = rgi_area_filt.aggregate_array('rgi_id')\n",
    "id_list = id_list.getInfo()\n",
    "print('Number of glaciers selected:', len(id_list))"
   ]
  },
  {
   "cell_type": "code",
   "execution_count": null,
   "id": "cf593c39-45b4-4d96-acec-a81615fe3108",
   "metadata": {
    "scrolled": true
   },
   "outputs": [],
   "source": [
    "# Iterate over RGI IDs\n",
    "for i in range(0,len(id_list))[0:1]:\n",
    "    rgi_id = id_list[i]\n",
    "    print(\"Glacier ID used for output file names:\", rgi_id)\n",
    "\n",
    "    # grab glacier area of interest\n",
    "    aoi = rgi.filter(ee.Filter.eq('rgi_id', rgi_id))\n",
    "    aoi = aoi.geometry()\n",
    "    aoi_area = aoi.area().getInfo() # save area [m^2] for splitting date ranges later\n",
    "    print(f\"Glacier area = {aoi_area/1e6} km2\")\n",
    "\n",
    "    # Query GEE for DEM\n",
    "    dem = utils.query_gee_for_dem(aoi) \n",
    "\n",
    "    # Run pipeline for each dataset\n",
    "    for dataset in ['Sentinel-2_TOA','Sentinel-2_SR','Landsat']:\n",
    "        utils.run_classification_pipeline(aoi, aoi_area, dem, dataset, date_start, date_end, month_start, month_end, \n",
    "                                          min_aoi_coverage, mask_clouds, out_folder, rgi_id, scale=None, verbose=False)"
   ]
  }
 ],
 "metadata": {
  "kernelspec": {
   "display_name": "glasee",
   "language": "python",
   "name": "glasee"
  },
  "language_info": {
   "codemirror_mode": {
    "name": "ipython",
    "version": 3
   },
   "file_extension": ".py",
   "mimetype": "text/x-python",
   "name": "python",
   "nbconvert_exporter": "python",
   "pygments_lexer": "ipython3",
   "version": "3.11.13"
  }
 },
 "nbformat": 4,
 "nbformat_minor": 5
}
