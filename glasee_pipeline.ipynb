{
 "cells": [
  {
   "cell_type": "markdown",
   "id": "679c57e8",
   "metadata": {},
   "source": [
    "# GlaSEE pipeline\n",
    "\n",
    "Full classification pipeline for Sentinel-2 TOA, Sentinel-2 SR, and Landsat 8/9 images. \n",
    "\n",
    "## Requirements:\n",
    "1. Google Earth Engine (GEE) account: used to query imagery and the DEM (if no DEM is provided). Sign up for a free account [here](https://earthengine.google.com/new_signup/). \n",
    "\n",
    "2. Google Drive folder: Create a folder where output snow cover statistics will be saved. Enter the name of this folder as the `out_folder` variable below. If you don't create the folder ahead of time, duplicates of the same folder will be created for each output file!"
   ]
  },
  {
   "cell_type": "markdown",
   "id": "2b90f0f8",
   "metadata": {},
   "source": [
    "## Define image search settings and paths"
   ]
  },
  {
   "cell_type": "code",
   "execution_count": 1,
   "id": "46d472ad",
   "metadata": {},
   "outputs": [
    {
     "name": "stderr",
     "output_type": "stream",
     "text": [
      "/Users/ellynenderlin/micromamba/envs/glasee/lib/python3.11/site-packages/geemap/conversion.py:23: UserWarning: pkg_resources is deprecated as an API. See https://setuptools.pypa.io/en/latest/pkg_resources.html. The pkg_resources package is slated for removal as early as 2025-11-30. Refrain from using this package or pin to Setuptools<81.\n",
      "  import pkg_resources\n"
     ]
    }
   ],
   "source": [
    "import os\n",
    "import ee\n",
    "import geemap\n",
    "import sys\n",
    "\n",
    "# -----Define Google Drive folder for outputs\n",
    "# Note: Make sure this folder already exists and is the only folder in your \"My Drive\" with that name. \n",
    "out_folder = 'glacier-snow-cover_exports'\n",
    "\n",
    "# -----Import pipeline utilities\n",
    "# Assumes pipeline_utils.py is in the same folder as this notebook\n",
    "script_path = os.getcwd()\n",
    "sys.path.append(script_path)\n",
    "import glasee_pipeline_utils as utils\n",
    "\n",
    "# -----Define image search settings\n",
    "# Date and month ranges (inclusive)\n",
    "date_start = '2014-05-01' #default 2014-05-01 start\n",
    "date_end = '2025-08-15' #default 2025-08-15 end\n",
    "month_start = 5 #May = 5\n",
    "month_end = 10 #Oct = 10\n",
    "# Minimum fill portion percentage of the AOI (0–100), used to remove images after mosaicking by day. \n",
    "min_aoi_coverage = 70\n",
    "# Whether to mask clouds using the respective cloud mask via the geedim package\n",
    "mask_clouds = True"
   ]
  },
  {
   "cell_type": "markdown",
   "id": "2e1fe38a",
   "metadata": {},
   "source": [
    "## Authenticate and/or Initialize Google Earth Engine (GEE)\n",
    "\n",
    "Replace the project ID with your GEE project. Default = `ee-{GEE-username}`"
   ]
  },
  {
   "cell_type": "code",
   "execution_count": 2,
   "id": "c276471a",
   "metadata": {},
   "outputs": [
    {
     "data": {
      "text/html": [
       "\n",
       "            <style>\n",
       "                .geemap-dark {\n",
       "                    --jp-widgets-color: white;\n",
       "                    --jp-widgets-label-color: white;\n",
       "                    --jp-ui-font-color1: white;\n",
       "                    --jp-layout-color2: #454545;\n",
       "                    background-color: #383838;\n",
       "                }\n",
       "\n",
       "                .geemap-dark .jupyter-button {\n",
       "                    --jp-layout-color3: #383838;\n",
       "                }\n",
       "\n",
       "                .geemap-colab {\n",
       "                    background-color: var(--colab-primary-surface-color, white);\n",
       "                }\n",
       "\n",
       "                .geemap-colab .jupyter-button {\n",
       "                    --jp-layout-color3: var(--colab-primary-surface-color, white);\n",
       "                }\n",
       "            </style>\n",
       "            "
      ],
      "text/plain": [
       "<IPython.core.display.HTML object>"
      ]
     },
     "metadata": {},
     "output_type": "display_data"
    },
    {
     "name": "stderr",
     "output_type": "stream",
     "text": [
      "*** Earth Engine *** Share your feedback by taking our Annual Developer Satisfaction Survey: https://google.qualtrics.com/jfe/form/SV_7TDKVSyKvBdmMqW?ref=4i2o6\n"
     ]
    }
   ],
   "source": [
    "project_id = \"ee-ellynenderlin\"\n",
    "\n",
    "try:\n",
    "    ee.Initialize(project=project_id)\n",
    "except:\n",
    "    ee.Authenticate()\n",
    "    ee.Initialize(project=project_id)"
   ]
  },
  {
   "cell_type": "markdown",
   "id": "2730e1cf",
   "metadata": {},
   "source": [
    "## Run the pipeline for a single glacier\n",
    "\n",
    "### Select the Area of Interest (AOI) from the Randolph Glacier Inventory (RGI) dataset\n",
    "\n",
    "This cell will plot the RGI dataset on a map. To find a glacier, click on the wrench in the upper right toolbox of the map, and use the \"Inspector\" to click on a polygon and view the its properties. Right click on the \"rgi_id\" property to highlight and then copy. Replace the `rgi_id` variable below with your selected site. "
   ]
  },
  {
   "cell_type": "code",
   "execution_count": 3,
   "id": "6b29f48c",
   "metadata": {},
   "outputs": [
    {
     "data": {
      "text/html": [
       "\n",
       "            <style>\n",
       "                .geemap-dark {\n",
       "                    --jp-widgets-color: white;\n",
       "                    --jp-widgets-label-color: white;\n",
       "                    --jp-ui-font-color1: white;\n",
       "                    --jp-layout-color2: #454545;\n",
       "                    background-color: #383838;\n",
       "                }\n",
       "\n",
       "                .geemap-dark .jupyter-button {\n",
       "                    --jp-layout-color3: #383838;\n",
       "                }\n",
       "\n",
       "                .geemap-colab {\n",
       "                    background-color: var(--colab-primary-surface-color, white);\n",
       "                }\n",
       "\n",
       "                .geemap-colab .jupyter-button {\n",
       "                    --jp-layout-color3: var(--colab-primary-surface-color, white);\n",
       "                }\n",
       "            </style>\n",
       "            "
      ],
      "text/plain": [
       "<IPython.core.display.HTML object>"
      ]
     },
     "metadata": {},
     "output_type": "display_data"
    },
    {
     "name": "stdout",
     "output_type": "stream",
     "text": [
      "Glacier area = 290 km2\n"
     ]
    },
    {
     "data": {
      "application/vnd.jupyter.widget-view+json": {
       "model_id": "e3447391665f46e8905438cdf3586c96",
       "version_major": 2,
       "version_minor": 0
      },
      "text/plain": [
       "Map(center=[0, 0], controls=(WidgetControl(options=['position', 'transparent_bg'], widget=SearchDataGUI(childr…"
      ]
     },
     "execution_count": 3,
     "metadata": {},
     "output_type": "execute_result"
    }
   ],
   "source": [
    "# Load the RGI v7 dataset\n",
    "rgi = ee.FeatureCollection(\"projects/ee-raineyaberle/assets/glacier-snow-cover-mapping/RGI2000-v7-G\")\n",
    "\n",
    "# Select a glacier by the RGI v7 ID\n",
    "rgi_id = 'RGI2000-v7.0-G-01-05740' #RGI2000-v7.0-G-01-11350 (Wolverine), RGI2000-v7.0-G-01-05299 (Gulkana), RGI2000-v7.0-G-01-05740 (Kennicott), 17516 (Casement)\n",
    "                                 \n",
    "# Grab the geometry\n",
    "aoi = rgi.filter(ee.Filter.eq('rgi_id', rgi_id))\n",
    "aoi = aoi.geometry()\n",
    "aoi_area = aoi.area().getInfo() # save area [m^2] for splitting date ranges later\n",
    "print(f\"Glacier area = {int(aoi_area/1e6)} km2\")\n",
    "\n",
    "# Create a Map\n",
    "Map = geemap.Map()\n",
    "Map.addLayer(rgi, {'color': 'blue', 'opacity':  0.5}, 'RGI v7')\n",
    "Map.addLayer(aoi, {'color': 'orange', 'opacity': 0.8}, 'AOI')\n",
    "Map.centerObject(aoi)\n",
    "Map"
   ]
  },
  {
   "cell_type": "markdown",
   "id": "40ca915f",
   "metadata": {},
   "source": [
    "### Load the Digital Elevation Model (DEM)\n",
    "\n",
    "Default: use the ArcticDEM Mosaic where there is > 90 % coverage. Otherwise, use the NASADEM. For sites that use the ArcticDEM Mosaic, elevations are reprojected to the EGM96 geoid to match the vertical datum of NASADEM. "
   ]
  },
  {
   "cell_type": "code",
   "execution_count": 4,
   "id": "2fe69f32",
   "metadata": {},
   "outputs": [
    {
     "data": {
      "text/html": [
       "\n",
       "            <style>\n",
       "                .geemap-dark {\n",
       "                    --jp-widgets-color: white;\n",
       "                    --jp-widgets-label-color: white;\n",
       "                    --jp-ui-font-color1: white;\n",
       "                    --jp-layout-color2: #454545;\n",
       "                    background-color: #383838;\n",
       "                }\n",
       "\n",
       "                .geemap-dark .jupyter-button {\n",
       "                    --jp-layout-color3: #383838;\n",
       "                }\n",
       "\n",
       "                .geemap-colab {\n",
       "                    background-color: var(--colab-primary-surface-color, white);\n",
       "                }\n",
       "\n",
       "                .geemap-colab .jupyter-button {\n",
       "                    --jp-layout-color3: var(--colab-primary-surface-color, white);\n",
       "                }\n",
       "            </style>\n",
       "            "
      ],
      "text/plain": [
       "<IPython.core.display.HTML object>"
      ]
     },
     "metadata": {},
     "output_type": "display_data"
    },
    {
     "name": "stdout",
     "output_type": "stream",
     "text": [
      "\n",
      "Querying GEE for DEM\n",
      "ArcticDEM coverage = 100 %\n",
      "Using ArcticDEM Mosaic\n",
      "Elevation range = 408 to 4967 m\n"
     ]
    }
   ],
   "source": [
    "# Query GEE for DEM\n",
    "dem = utils.query_gee_for_dem(aoi)\n",
    "\n",
    "# Add DEM to map\n",
    "# grab min and max elevations for color limits\n",
    "minMax = dem.reduceRegion(reducer=ee.Reducer.minMax(),\n",
    "                          geometry=aoi, \n",
    "                          scale=30,\n",
    "                          maxPixels=1e9,\n",
    "                          bestEffort=True)\n",
    "elev_min = minMax.get('elevation_min')\n",
    "elev_max = minMax.get('elevation_max')\n",
    "print(f'Elevation range = {int(elev_min.getInfo())} to {int(elev_max.getInfo())} m')\n",
    "# colors based on the \"terrain\" palette from matplotlib\n",
    "palette = ['#333399', '#0d7fe5', '#00be90','#55dd77','#c6f48e','#e3db8a','#aa926b','#8e6e67','#c6b6b3','#ffffff']\n",
    "Map.addLayer(dem, {'palette': palette, 'min': elev_min, 'max': elev_max}, 'DEM')"
   ]
  },
  {
   "cell_type": "markdown",
   "id": "5cb54d54",
   "metadata": {},
   "source": [
    "Run Sentinel-2 Top of Atmosphere (2016-present), Sentinel-2 Surface Reflectance (2019-present), and Landsat 8/9 (2013-present): 2016 onwards"
   ]
  },
  {
   "cell_type": "code",
   "execution_count": null,
   "id": "775d2a91",
   "metadata": {
    "scrolled": true
   },
   "outputs": [],
   "source": [
    "for dataset in ['Sentinel-2_TOA','Sentinel-2_SR','Landsat']: \n",
    "    utils.run_classification_pipeline(aoi, aoi_area, dem, dataset, date_start, date_end, month_start, month_end, \n",
    "                                  min_aoi_coverage, mask_clouds, out_folder, rgi_id, scale=None, verbose=False)"
   ]
  },
  {
   "cell_type": "markdown",
   "id": "6dbecd57-6186-43e6-85b4-7488c6265be0",
   "metadata": {},
   "source": [
    "OR RUN EACH PLATFORM INDEPENDENTLY AS NEEDED!"
   ]
  },
  {
   "cell_type": "markdown",
   "id": "5d6d02ab-fc7b-4cf0-9523-ea6a9f1725c7",
   "metadata": {},
   "source": [
    "Run Sentinel-2 Top of Atmosphere (TOA): 2016 onwards"
   ]
  },
  {
   "cell_type": "code",
   "execution_count": 7,
   "id": "a90a4e50-8ee0-4393-bac4-67c1af2b68ae",
   "metadata": {},
   "outputs": [
    {
     "data": {
      "text/html": [
       "\n",
       "            <style>\n",
       "                .geemap-dark {\n",
       "                    --jp-widgets-color: white;\n",
       "                    --jp-widgets-label-color: white;\n",
       "                    --jp-ui-font-color1: white;\n",
       "                    --jp-layout-color2: #454545;\n",
       "                    background-color: #383838;\n",
       "                }\n",
       "\n",
       "                .geemap-dark .jupyter-button {\n",
       "                    --jp-layout-color3: #383838;\n",
       "                }\n",
       "\n",
       "                .geemap-colab {\n",
       "                    background-color: var(--colab-primary-surface-color, white);\n",
       "                }\n",
       "\n",
       "                .geemap-colab .jupyter-button {\n",
       "                    --jp-layout-color3: var(--colab-primary-surface-color, white);\n",
       "                }\n",
       "            </style>\n",
       "            "
      ],
      "text/plain": [
       "<IPython.core.display.HTML object>"
      ]
     },
     "metadata": {},
     "output_type": "display_data"
    }
   ],
   "source": [
    "# redefine the date range to narrow in on ~1 month for testing\n",
    "date_start = '2014-05-01' #default 2014-05-01 start\n",
    "date_end = '2025-08-08' #default 2025-08-15 end"
   ]
  },
  {
   "cell_type": "code",
   "execution_count": null,
   "id": "047c4f6e-2fdf-4bd8-a34f-8a5167e7b26a",
   "metadata": {
    "scrolled": true
   },
   "outputs": [],
   "source": [
    "dataset = \"Sentinel-2_TOA\"\n",
    "utils.run_classification_pipeline(aoi, aoi_area, dem, dataset, date_start, date_end, month_start, month_end, \n",
    "                                  min_aoi_coverage, mask_clouds, out_folder, rgi_id, scale=None, verbose=False)"
   ]
  },
  {
   "cell_type": "markdown",
   "id": "bda52169",
   "metadata": {},
   "source": [
    "Run Sentinel-2 Surface Reflectance (SR): 2019 onwards"
   ]
  },
  {
   "cell_type": "code",
   "execution_count": 8,
   "id": "635b8117",
   "metadata": {
    "scrolled": true
   },
   "outputs": [
    {
     "data": {
      "text/html": [
       "\n",
       "            <style>\n",
       "                .geemap-dark {\n",
       "                    --jp-widgets-color: white;\n",
       "                    --jp-widgets-label-color: white;\n",
       "                    --jp-ui-font-color1: white;\n",
       "                    --jp-layout-color2: #454545;\n",
       "                    background-color: #383838;\n",
       "                }\n",
       "\n",
       "                .geemap-dark .jupyter-button {\n",
       "                    --jp-layout-color3: #383838;\n",
       "                }\n",
       "\n",
       "                .geemap-colab {\n",
       "                    background-color: var(--colab-primary-surface-color, white);\n",
       "                }\n",
       "\n",
       "                .geemap-colab .jupyter-button {\n",
       "                    --jp-layout-color3: var(--colab-primary-surface-color, white);\n",
       "                }\n",
       "            </style>\n",
       "            "
      ],
      "text/plain": [
       "<IPython.core.display.HTML object>"
      ]
     },
     "metadata": {},
     "output_type": "display_data"
    },
    {
     "name": "stdout",
     "output_type": "stream",
     "text": [
      "AOI area between 200-500 km2, upscaling imagery to 30 m resolution.\n",
      "200 km2 <= AOI < 500 km2 — splitting date range by week.\n",
      "Number of date ranges = 167\n",
      "Exporting snow cover statistics to glacier-snow-cover_exports Google Drive folder with file naming convention: RGI2000-v7.0-G-01-05740_Sentinel-2_SR_snow_cover_stats_DATE-START_DATE-END.csv\n",
      "To monitor export tasks, see your Google Cloud Console or GEE Task Manager: https://code.earthengine.google.com/tasks\n",
      "('2019-05-01', '2019-05-07')\n",
      "...current queue length 0\n",
      "('2019-05-08', '2019-05-14')\n",
      "...current queue length 1\n",
      "('2019-05-15', '2019-05-21')\n",
      "...current queue length 2\n",
      "('2019-05-22', '2019-05-28')\n",
      "...current queue length 3\n",
      "('2019-05-29', '2019-06-04')\n",
      "...current queue length 2\n",
      "('2019-06-05', '2019-06-11')\n",
      "...current queue length 3\n",
      "('2019-06-12', '2019-06-18')\n",
      "...current queue length 4\n",
      "('2019-06-19', '2019-06-25')\n",
      "...current queue length 5\n",
      "('2019-06-26', '2019-07-02')\n",
      "...current queue length 6\n",
      "('2019-07-03', '2019-07-09')\n",
      "...current queue length 7\n",
      "('2019-07-10', '2019-07-16')\n",
      "...current queue length 8\n",
      "('2019-07-17', '2019-07-23')\n",
      "...current queue length 9\n",
      "('2019-07-24', '2019-07-30')\n",
      "...current queue length 10\n",
      "('2019-07-31', '2019-08-06')\n",
      "...current queue length 11\n",
      "('2019-08-07', '2019-08-13')\n",
      "...current queue length 12\n",
      "('2019-08-14', '2019-08-20')\n",
      "...current queue length 13\n",
      "('2019-08-21', '2019-08-27')\n",
      "...current queue length 14\n",
      "('2019-08-28', '2019-09-03')\n",
      "...current queue length 15\n",
      "('2019-09-04', '2019-09-10')\n",
      "...current queue length 16\n",
      "('2019-09-11', '2019-09-17')\n",
      "...current queue length 17\n",
      "('2019-09-18', '2019-09-24')\n",
      "...current queue length 18\n",
      "('2019-09-25', '2019-10-01')\n",
      "...current queue length 19\n",
      "('2019-10-02', '2019-10-08')\n",
      "...current queue length 20\n",
      "('2019-10-09', '2019-10-15')\n",
      "...current queue length 21\n",
      "('2019-10-16', '2019-10-22')\n",
      "...current queue length 22\n",
      "('2019-10-23', '2019-10-29')\n",
      "...current queue length 23\n",
      "('2020-05-06', '2020-05-12')\n",
      "...current queue length 24\n",
      "('2020-05-13', '2020-05-19')\n",
      "...current queue length 25\n",
      "('2020-05-20', '2020-05-26')\n",
      "...current queue length 26\n",
      "('2020-05-27', '2020-06-02')\n",
      "...current queue length 27\n",
      "('2020-06-03', '2020-06-09')\n",
      "...current queue length 28\n",
      "('2020-06-10', '2020-06-16')\n",
      "...current queue length 29\n",
      "('2020-06-17', '2020-06-23')\n",
      "...current queue length 30\n",
      "('2020-06-24', '2020-06-30')\n",
      "...current queue length 31\n",
      "('2020-07-01', '2020-07-07')\n",
      "...current queue length 31\n",
      "('2020-07-08', '2020-07-14')\n",
      "...current queue length 32\n",
      "('2020-07-15', '2020-07-21')\n",
      "...current queue length 33\n",
      "('2020-07-22', '2020-07-28')\n",
      "...current queue length 34\n",
      "('2020-07-29', '2020-08-04')\n",
      "...current queue length 35\n",
      "('2020-08-05', '2020-08-11')\n",
      "...current queue length 36\n",
      "('2020-08-12', '2020-08-18')\n",
      "...current queue length 37\n",
      "('2020-08-19', '2020-08-25')\n",
      "...current queue length 38\n",
      "('2020-08-26', '2020-09-01')\n",
      "...current queue length 39\n",
      "('2020-09-02', '2020-09-08')\n",
      "...current queue length 40\n",
      "('2020-09-09', '2020-09-15')\n",
      "...current queue length 41\n",
      "('2020-09-16', '2020-09-22')\n",
      "...current queue length 42\n",
      "('2020-09-23', '2020-09-29')\n",
      "...current queue length 43\n",
      "('2020-09-30', '2020-10-06')\n",
      "...current queue length 44\n",
      "('2020-10-07', '2020-10-13')\n",
      "...current queue length 45\n",
      "('2020-10-14', '2020-10-20')\n",
      "...current queue length 46\n",
      "('2020-10-21', '2020-10-27')\n",
      "...current queue length 47\n",
      "('2021-05-05', '2021-05-11')\n",
      "...current queue length 48\n",
      "('2021-05-12', '2021-05-18')\n",
      "...current queue length 49\n",
      "('2021-05-19', '2021-05-25')\n",
      "...current queue length 49\n",
      "('2021-05-26', '2021-06-01')\n",
      "...current queue length 50\n",
      "('2021-06-02', '2021-06-08')\n",
      "...current queue length 51\n",
      "('2021-06-09', '2021-06-15')\n",
      "...current queue length 52\n",
      "('2021-06-16', '2021-06-22')\n",
      "...current queue length 53\n",
      "('2021-06-23', '2021-06-29')\n",
      "...current queue length 54\n",
      "('2021-06-30', '2021-07-06')\n",
      "...current queue length 54\n",
      "('2021-07-07', '2021-07-13')\n",
      "...current queue length 55\n",
      "('2021-07-14', '2021-07-20')\n",
      "...current queue length 56\n",
      "('2021-07-21', '2021-07-27')\n",
      "...current queue length 57\n",
      "('2021-07-28', '2021-08-03')\n",
      "...current queue length 58\n",
      "('2021-08-04', '2021-08-10')\n",
      "...current queue length 59\n",
      "('2021-08-11', '2021-08-17')\n",
      "...current queue length 60\n",
      "('2021-08-18', '2021-08-24')\n",
      "...current queue length 61\n",
      "('2021-08-25', '2021-08-31')\n",
      "...current queue length 62\n",
      "('2021-09-01', '2021-09-07')\n",
      "...current queue length 63\n",
      "('2021-09-08', '2021-09-14')\n",
      "...current queue length 64\n",
      "('2021-09-15', '2021-09-21')\n",
      "...current queue length 64\n",
      "('2021-09-22', '2021-09-28')\n",
      "...current queue length 65\n",
      "('2021-09-29', '2021-10-05')\n",
      "...current queue length 66\n",
      "('2021-10-06', '2021-10-12')\n",
      "...current queue length 67\n",
      "('2021-10-13', '2021-10-19')\n",
      "...current queue length 68\n",
      "('2021-10-20', '2021-10-26')\n",
      "...current queue length 69\n",
      "('2022-05-04', '2022-05-10')\n",
      "...current queue length 69\n",
      "('2022-05-11', '2022-05-17')\n",
      "...current queue length 70\n",
      "('2022-05-18', '2022-05-24')\n",
      "...current queue length 71\n",
      "('2022-05-25', '2022-05-31')\n",
      "...current queue length 72\n",
      "('2022-06-01', '2022-06-07')\n",
      "...current queue length 73\n",
      "('2022-06-08', '2022-06-14')\n",
      "...current queue length 74\n",
      "('2022-06-15', '2022-06-21')\n",
      "...current queue length 75\n",
      "('2022-06-22', '2022-06-28')\n",
      "...current queue length 76\n",
      "('2022-06-29', '2022-07-05')\n",
      "...current queue length 77\n",
      "('2022-07-06', '2022-07-12')\n",
      "...current queue length 78\n",
      "('2022-07-13', '2022-07-19')\n",
      "...current queue length 78\n",
      "('2022-07-20', '2022-07-26')\n",
      "...current queue length 79\n",
      "('2022-07-27', '2022-08-02')\n",
      "...current queue length 80\n",
      "('2022-08-03', '2022-08-09')\n",
      "...current queue length 81\n",
      "('2022-08-10', '2022-08-16')\n",
      "...current queue length 82\n",
      "('2022-08-17', '2022-08-23')\n",
      "...current queue length 83\n",
      "('2022-08-24', '2022-08-30')\n",
      "...current queue length 83\n",
      "('2022-08-31', '2022-09-06')\n",
      "...current queue length 84\n",
      "('2022-09-07', '2022-09-13')\n",
      "...current queue length 85\n",
      "('2022-09-14', '2022-09-20')\n",
      "...current queue length 86\n",
      "('2022-09-21', '2022-09-27')\n",
      "...current queue length 87\n",
      "('2022-09-28', '2022-10-04')\n",
      "...current queue length 88\n",
      "('2022-10-05', '2022-10-11')\n",
      "...current queue length 89\n",
      "('2022-10-12', '2022-10-18')\n",
      "...current queue length 90\n",
      "('2022-10-19', '2022-10-25')\n",
      "...current queue length 91\n",
      "('2023-05-03', '2023-05-09')\n",
      "...current queue length 92\n",
      "('2023-05-10', '2023-05-16')\n",
      "...current queue length 93\n",
      "('2023-05-17', '2023-05-23')\n",
      "...current queue length 94\n",
      "('2023-05-24', '2023-05-30')\n",
      "...current queue length 95\n",
      "('2023-05-31', '2023-06-06')\n",
      "...current queue length 96\n",
      "('2023-06-07', '2023-06-13')\n",
      "...current queue length 97\n",
      "('2023-06-14', '2023-06-20')\n",
      "...current queue length 97\n",
      "('2023-06-21', '2023-06-27')\n",
      "...current queue length 98\n",
      "('2023-06-28', '2023-07-04')\n",
      "...current queue length 99\n",
      "('2023-07-05', '2023-07-11')\n",
      "...current queue length 100\n",
      "('2023-07-12', '2023-07-18')\n",
      "...current queue length 101\n",
      "('2023-07-19', '2023-07-25')\n",
      "...current queue length 102\n",
      "('2023-07-26', '2023-08-01')\n",
      "...current queue length 102\n",
      "('2023-08-02', '2023-08-08')\n",
      "...current queue length 103\n",
      "('2023-08-09', '2023-08-15')\n",
      "...current queue length 104\n",
      "('2023-08-16', '2023-08-22')\n",
      "...current queue length 105\n",
      "('2023-08-23', '2023-08-29')\n",
      "...current queue length 106\n",
      "('2023-08-30', '2023-09-05')\n",
      "...current queue length 107\n",
      "('2023-09-06', '2023-09-12')\n",
      "...current queue length 108\n",
      "('2023-09-13', '2023-09-19')\n",
      "...current queue length 109\n",
      "('2023-09-20', '2023-09-26')\n",
      "...current queue length 110\n",
      "('2023-09-27', '2023-10-03')\n",
      "...current queue length 111\n",
      "('2023-10-04', '2023-10-10')\n",
      "...current queue length 112\n",
      "('2023-10-11', '2023-10-17')\n",
      "...current queue length 113\n",
      "('2023-10-18', '2023-10-24')\n",
      "...current queue length 114\n",
      "('2023-10-25', '2023-10-31')\n",
      "...current queue length 115\n",
      "('2024-05-01', '2024-05-07')\n",
      "...current queue length 116\n",
      "('2024-05-08', '2024-05-14')\n",
      "...current queue length 116\n",
      "('2024-05-15', '2024-05-21')\n",
      "...current queue length 117\n",
      "('2024-05-22', '2024-05-28')\n",
      "...current queue length 118\n",
      "('2024-05-29', '2024-06-04')\n",
      "...current queue length 119\n",
      "('2024-06-05', '2024-06-11')\n",
      "...current queue length 120\n",
      "('2024-06-12', '2024-06-18')\n",
      "...current queue length 120\n",
      "('2024-06-19', '2024-06-25')\n",
      "...current queue length 121\n",
      "('2024-06-26', '2024-07-02')\n",
      "...current queue length 122\n",
      "('2024-07-03', '2024-07-09')\n",
      "...current queue length 123\n",
      "('2024-07-10', '2024-07-16')\n",
      "...current queue length 124\n",
      "('2024-07-17', '2024-07-23')\n",
      "...current queue length 125\n",
      "('2024-07-24', '2024-07-30')\n",
      "...current queue length 126\n",
      "('2024-07-31', '2024-08-06')\n",
      "...current queue length 127\n",
      "('2024-08-07', '2024-08-13')\n",
      "...current queue length 128\n",
      "('2024-08-14', '2024-08-20')\n",
      "...current queue length 129\n",
      "('2024-08-21', '2024-08-27')\n",
      "...current queue length 129\n",
      "('2024-08-28', '2024-09-03')\n",
      "...current queue length 130\n",
      "('2024-09-04', '2024-09-10')\n",
      "...current queue length 131\n",
      "('2024-09-11', '2024-09-17')\n",
      "...current queue length 132\n",
      "('2024-09-18', '2024-09-24')\n",
      "...current queue length 133\n",
      "('2024-09-25', '2024-10-01')\n",
      "...current queue length 134\n",
      "('2024-10-02', '2024-10-08')\n",
      "...current queue length 134\n",
      "('2024-10-09', '2024-10-15')\n",
      "...current queue length 135\n",
      "('2024-10-16', '2024-10-22')\n",
      "...current queue length 136\n",
      "('2024-10-23', '2024-10-29')\n",
      "...current queue length 137\n",
      "('2025-05-07', '2025-05-13')\n",
      "...current queue length 138\n",
      "('2025-05-14', '2025-05-20')\n",
      "...current queue length 139\n",
      "('2025-05-21', '2025-05-27')\n",
      "...current queue length 140\n",
      "('2025-05-28', '2025-06-03')\n",
      "...current queue length 141\n",
      "('2025-06-04', '2025-06-10')\n",
      "...current queue length 142\n",
      "('2025-06-11', '2025-06-17')\n",
      "...current queue length 143\n",
      "('2025-06-18', '2025-06-24')\n",
      "...current queue length 144\n",
      "('2025-06-25', '2025-07-01')\n",
      "...current queue length 145\n",
      "('2025-07-02', '2025-07-08')\n",
      "...current queue length 146\n",
      "('2025-07-09', '2025-07-15')\n",
      "...current queue length 147\n",
      "('2025-07-16', '2025-07-22')\n",
      "...current queue length 148\n",
      "('2025-07-23', '2025-07-29')\n",
      "...current queue length 148\n",
      "('2025-07-30', '2025-08-05')\n",
      "...current queue length 149\n",
      "('2025-08-06', '2025-08-08')\n",
      "...current queue length 150\n"
     ]
    }
   ],
   "source": [
    "dataset = \"Sentinel-2_SR\"\n",
    "utils.run_classification_pipeline(aoi, aoi_area, dem, dataset, date_start, date_end, month_start, month_end, \n",
    "                                  min_aoi_coverage, mask_clouds, out_folder, rgi_id, scale=None, verbose=False)"
   ]
  },
  {
   "cell_type": "markdown",
   "id": "4c9aa464",
   "metadata": {},
   "source": [
    "Run Landsat 8/9 SR: 2013 onwards"
   ]
  },
  {
   "cell_type": "code",
   "execution_count": null,
   "id": "a7765329",
   "metadata": {
    "scrolled": true
   },
   "outputs": [],
   "source": [
    "dataset = \"Landsat\"\n",
    "utils.run_classification_pipeline(aoi, aoi_area, dem, dataset, date_start, date_end, month_start, month_end, \n",
    "                                  min_aoi_coverage, mask_clouds, out_folder, rgi_id, scale=None, verbose=False)"
   ]
  },
  {
   "cell_type": "markdown",
   "id": "c6238f5a-128f-4c5a-8095-8ed5b762f38f",
   "metadata": {},
   "source": [
    "## Run the pipeline for multiple glaciers\n",
    "\n",
    "First, create a list of glacier IDs for analysis. \n",
    "\n",
    "Below is an example selection of glaciers, where the full RGI v. 7 collection is filtered by RGI O2 region (\"o2region\") and area (\"area_km2\"). For the full list of properties available for filtering, see the [RGI v. 7 documentation](https://www.glims.org/rgi_user_guide/products/glacier_product.html#full-list-of-attributes) or run the following command: \n",
    "\n",
    "`rgi.first().propertyNames().getInfo()`"
   ]
  },
  {
   "cell_type": "code",
   "execution_count": null,
   "id": "aacaa02f-2eab-4798-92ff-b55b17a5b9e2",
   "metadata": {},
   "outputs": [],
   "source": [
    "# Load the RGI v. 7 dataset\n",
    "rgi = ee.FeatureCollection(\"projects/ee-raineyaberle/assets/glacier-snow-cover-mapping/RGI2000-v7-G\")\n",
    "\n",
    "# Filter by region and subregion\n",
    "rgi_r1r2 = rgi.filter(ee.Filter.eq('o2region', '01-05')) # filter by RGI subregion (e.g., \"01-05\" = Alaska, St. Elias)\n",
    "\n",
    "# Filter by glacier area\n",
    "rgi_area_filt = rgi_r1r2.filter(ee.Filter.gt('area_km2', 8)) # area km2\n",
    "rgi_area_filt = rgi_area_filt.filter(ee.Filter.lt('area_km2', 10)) # area km2 (pixel scaling applies for >3000km^2 and issues arise at >10000km^2)\n",
    "\n",
    "# Get the list of RGI IDs\n",
    "id_list = rgi_area_filt.aggregate_array('rgi_id')\n",
    "id_list = id_list.getInfo()\n",
    "# print(id_list[52]) #use this to double-check you are restarting on the right index\n",
    "print('Number of glaciers selected:', len(id_list))"
   ]
  },
  {
   "cell_type": "code",
   "execution_count": null,
   "id": "cf593c39-45b4-4d96-acec-a81615fe3108",
   "metadata": {
    "scrolled": true
   },
   "outputs": [],
   "source": [
    "# Iterate over RGI IDs\n",
    "for i in range(0,len(id_list))[5:]: #add [0:1] to test for one\n",
    "    rgi_id = id_list[i]\n",
    "    print(\"Glacier #\",i)\n",
    "    print(\"Glacier ID used for output file names:\", rgi_id)\n",
    "\n",
    "    # grab glacier area of interest\n",
    "    aoi = rgi.filter(ee.Filter.eq('rgi_id', rgi_id))\n",
    "    aoi = aoi.geometry()\n",
    "    aoi_area = aoi.area().getInfo() # save area [m^2] for splitting date ranges later\n",
    "    print(f\"Glacier area = {aoi_area/1e6} km2\")\n",
    "\n",
    "    # Query GEE for DEM\n",
    "    dem = utils.query_gee_for_dem(aoi) \n",
    "\n",
    "    # Run pipeline for each dataset\n",
    "    for dataset in ['Sentinel-2_TOA','Sentinel-2_SR','Landsat']: #specify ['Sentinel-2_TOA','Sentinel-2_SR','Landsat'] for all satellites\n",
    "        utils.run_classification_pipeline(aoi, aoi_area, dem, dataset, date_start, date_end, month_start, month_end, \n",
    "                                          min_aoi_coverage, mask_clouds, out_folder, rgi_id, scale=None, verbose=False)\n",
    "\n",
    "    print('...moving on... \\n')\n",
    "    "
   ]
  },
  {
   "cell_type": "code",
   "execution_count": null,
   "id": "b5a43536-c476-4b82-a562-d09621a8118d",
   "metadata": {},
   "outputs": [],
   "source": []
  },
  {
   "cell_type": "code",
   "execution_count": null,
   "id": "3a2c9af3-c810-4d9c-a452-ba0720b958cf",
   "metadata": {},
   "outputs": [],
   "source": []
  }
 ],
 "metadata": {
  "kernelspec": {
   "display_name": "glasee",
   "language": "python",
   "name": "glasee"
  },
  "language_info": {
   "codemirror_mode": {
    "name": "ipython",
    "version": 3
   },
   "file_extension": ".py",
   "mimetype": "text/x-python",
   "name": "python",
   "nbconvert_exporter": "python",
   "pygments_lexer": "ipython3",
   "version": "3.11.13"
  }
 },
 "nbformat": 4,
 "nbformat_minor": 5
}
