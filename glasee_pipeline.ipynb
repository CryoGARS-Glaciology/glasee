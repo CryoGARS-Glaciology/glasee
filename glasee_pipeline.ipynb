{
 "cells": [
  {
   "cell_type": "markdown",
   "id": "679c57e8",
   "metadata": {},
   "source": [
    "# GlaSEE pipeline\n",
    "\n",
    "Full classification pipeline for Sentinel-2 TOA, Sentinel-2 SR, and Landsat 8/9 images. \n",
    "\n",
    "## Requirements:\n",
    "1. Google Earth Engine (GEE) account: used to query imagery and the DEM (if no DEM is provided). Sign up for a free account [here](https://earthengine.google.com/new_signup/). \n",
    "\n",
    "2. Google Drive folder: Create a folder where output snow cover statistics will be saved. Enter the name of this folder as the `out_folder` variable below. If you don't create the folder ahead of time, duplicates of the same folder will be created for each output file!"
   ]
  },
  {
   "cell_type": "markdown",
   "id": "2b90f0f8",
   "metadata": {},
   "source": [
    "## Define image search settings and paths"
   ]
  },
  {
   "cell_type": "code",
   "execution_count": 1,
   "id": "46d472ad",
   "metadata": {},
   "outputs": [
    {
     "name": "stderr",
     "output_type": "stream",
     "text": [
      "/Users/ellynenderlin/micromamba/envs/glasee/lib/python3.11/site-packages/geemap/conversion.py:23: UserWarning: pkg_resources is deprecated as an API. See https://setuptools.pypa.io/en/latest/pkg_resources.html. The pkg_resources package is slated for removal as early as 2025-11-30. Refrain from using this package or pin to Setuptools<81.\n",
      "  import pkg_resources\n"
     ]
    }
   ],
   "source": [
    "import os\n",
    "import ee\n",
    "import geemap\n",
    "import sys\n",
    "\n",
    "# -----Define Google Drive folder for outputs\n",
    "# Note: Make sure this folder already exists and is the only folder in your \"My Drive\" with that name. \n",
    "out_folder = 'glacier-snow-cover_exports'\n",
    "\n",
    "# -----Import pipeline utilities\n",
    "# Assumes pipeline_utils.py is in the same folder as this notebook\n",
    "script_path = os.getcwd()\n",
    "sys.path.append(script_path)\n",
    "import glasee_pipeline_utils as utils\n",
    "\n",
    "# -----Define image search settings\n",
    "# Date and month ranges (inclusive)\n",
    "date_start = '2014-05-01' #default 2014-05-01 start\n",
    "date_end = '2025-08-15' #default 2025-08-15 end\n",
    "month_start = 5 #May = 5\n",
    "month_end = 10 #Oct = 10\n",
    "# Minimum fill portion percentage of the AOI (0–100), used to remove images after mosaicking by day. \n",
    "min_aoi_coverage = 70\n",
    "# Whether to mask clouds using the respective cloud mask via the geedim package\n",
    "mask_clouds = True"
   ]
  },
  {
   "cell_type": "markdown",
   "id": "2e1fe38a",
   "metadata": {},
   "source": [
    "## Authenticate and/or Initialize Google Earth Engine (GEE)\n",
    "\n",
    "Replace the project ID with your GEE project. Default = `ee-{GEE-username}`"
   ]
  },
  {
   "cell_type": "code",
   "execution_count": 2,
   "id": "c276471a",
   "metadata": {},
   "outputs": [
    {
     "data": {
      "text/html": [
       "\n",
       "            <style>\n",
       "                .geemap-dark {\n",
       "                    --jp-widgets-color: white;\n",
       "                    --jp-widgets-label-color: white;\n",
       "                    --jp-ui-font-color1: white;\n",
       "                    --jp-layout-color2: #454545;\n",
       "                    background-color: #383838;\n",
       "                }\n",
       "\n",
       "                .geemap-dark .jupyter-button {\n",
       "                    --jp-layout-color3: #383838;\n",
       "                }\n",
       "\n",
       "                .geemap-colab {\n",
       "                    background-color: var(--colab-primary-surface-color, white);\n",
       "                }\n",
       "\n",
       "                .geemap-colab .jupyter-button {\n",
       "                    --jp-layout-color3: var(--colab-primary-surface-color, white);\n",
       "                }\n",
       "            </style>\n",
       "            "
      ],
      "text/plain": [
       "<IPython.core.display.HTML object>"
      ]
     },
     "metadata": {},
     "output_type": "display_data"
    }
   ],
   "source": [
    "project_id = \"ee-ellynenderlin\"\n",
    "\n",
    "try:\n",
    "    ee.Initialize(project=project_id)\n",
    "except:\n",
    "    ee.Authenticate()\n",
    "    ee.Initialize(project=project_id)"
   ]
  },
  {
   "cell_type": "markdown",
   "id": "2730e1cf",
   "metadata": {},
   "source": [
    "## Run the pipeline for a single glacier\n",
    "\n",
    "### Select the Area of Interest (AOI) from the Randolph Glacier Inventory (RGI) dataset\n",
    "\n",
    "This cell will plot the RGI dataset on a map. To find a glacier, click on the wrench in the upper right toolbox of the map, and use the \"Inspector\" to click on a polygon and view the its properties. Right click on the \"rgi_id\" property to highlight and then copy. Replace the `rgi_id` variable below with your selected site. "
   ]
  },
  {
   "cell_type": "code",
   "execution_count": 3,
   "id": "6b29f48c",
   "metadata": {},
   "outputs": [
    {
     "data": {
      "text/html": [
       "\n",
       "            <style>\n",
       "                .geemap-dark {\n",
       "                    --jp-widgets-color: white;\n",
       "                    --jp-widgets-label-color: white;\n",
       "                    --jp-ui-font-color1: white;\n",
       "                    --jp-layout-color2: #454545;\n",
       "                    background-color: #383838;\n",
       "                }\n",
       "\n",
       "                .geemap-dark .jupyter-button {\n",
       "                    --jp-layout-color3: #383838;\n",
       "                }\n",
       "\n",
       "                .geemap-colab {\n",
       "                    background-color: var(--colab-primary-surface-color, white);\n",
       "                }\n",
       "\n",
       "                .geemap-colab .jupyter-button {\n",
       "                    --jp-layout-color3: var(--colab-primary-surface-color, white);\n",
       "                }\n",
       "            </style>\n",
       "            "
      ],
      "text/plain": [
       "<IPython.core.display.HTML object>"
      ]
     },
     "metadata": {},
     "output_type": "display_data"
    },
    {
     "name": "stdout",
     "output_type": "stream",
     "text": [
      "Glacier area = 16 km2\n"
     ]
    },
    {
     "data": {
      "application/vnd.jupyter.widget-view+json": {
       "model_id": "1364772148b94cad8369961914f71c61",
       "version_major": 2,
       "version_minor": 0
      },
      "text/plain": [
       "Map(center=[0, 0], controls=(WidgetControl(options=['position', 'transparent_bg'], widget=SearchDataGUI(childr…"
      ]
     },
     "execution_count": 3,
     "metadata": {},
     "output_type": "execute_result"
    }
   ],
   "source": [
    "# Load the RGI v7 dataset\n",
    "rgi = ee.FeatureCollection(\"projects/ee-raineyaberle/assets/glacier-snow-cover-mapping/RGI2000-v7-G\")\n",
    "\n",
    "# Select a glacier by the RGI v7 ID\n",
    "rgi_id = 'RGI2000-v7.0-G-01-14773' #RGI2000-v7.0-G-01-11350 (Wolverine), RGI2000-v7.0-G-01-05299 (Gulkana), and RGI2000-v7.0-G-01-05740 (Kennicott)\n",
    "                                 \n",
    "# Grab the geometry\n",
    "aoi = rgi.filter(ee.Filter.eq('rgi_id', rgi_id))\n",
    "aoi = aoi.geometry()\n",
    "aoi_area = aoi.area().getInfo() # save area [m^2] for splitting date ranges later\n",
    "print(f\"Glacier area = {int(aoi_area/1e6)} km2\")\n",
    "\n",
    "# Create a Map\n",
    "Map = geemap.Map()\n",
    "Map.addLayer(rgi, {'color': 'blue', 'opacity':  0.5}, 'RGI v7')\n",
    "Map.addLayer(aoi, {'color': 'orange', 'opacity': 0.8}, 'AOI')\n",
    "Map.centerObject(aoi)\n",
    "Map"
   ]
  },
  {
   "cell_type": "markdown",
   "id": "40ca915f",
   "metadata": {},
   "source": [
    "### Load the Digital Elevation Model (DEM)\n",
    "\n",
    "Default: use the ArcticDEM Mosaic where there is > 90 % coverage. Otherwise, use the NASADEM. For sites that use the ArcticDEM Mosaic, elevations are reprojected to the EGM96 geoid to match the vertical datum of NASADEM. "
   ]
  },
  {
   "cell_type": "code",
   "execution_count": 4,
   "id": "2fe69f32",
   "metadata": {},
   "outputs": [
    {
     "data": {
      "text/html": [
       "\n",
       "            <style>\n",
       "                .geemap-dark {\n",
       "                    --jp-widgets-color: white;\n",
       "                    --jp-widgets-label-color: white;\n",
       "                    --jp-ui-font-color1: white;\n",
       "                    --jp-layout-color2: #454545;\n",
       "                    background-color: #383838;\n",
       "                }\n",
       "\n",
       "                .geemap-dark .jupyter-button {\n",
       "                    --jp-layout-color3: #383838;\n",
       "                }\n",
       "\n",
       "                .geemap-colab {\n",
       "                    background-color: var(--colab-primary-surface-color, white);\n",
       "                }\n",
       "\n",
       "                .geemap-colab .jupyter-button {\n",
       "                    --jp-layout-color3: var(--colab-primary-surface-color, white);\n",
       "                }\n",
       "            </style>\n",
       "            "
      ],
      "text/plain": [
       "<IPython.core.display.HTML object>"
      ]
     },
     "metadata": {},
     "output_type": "display_data"
    },
    {
     "name": "stdout",
     "output_type": "stream",
     "text": [
      "\n",
      "Querying GEE for DEM\n",
      "ArcticDEM coverage = 100 %\n",
      "Using ArcticDEM Mosaic\n",
      "Elevation range = 958 to 2069 m\n"
     ]
    }
   ],
   "source": [
    "# Query GEE for DEM\n",
    "dem = utils.query_gee_for_dem(aoi)\n",
    "\n",
    "# Add DEM to map\n",
    "# grab min and max elevations for color limits\n",
    "minMax = dem.reduceRegion(reducer=ee.Reducer.minMax(),\n",
    "                          geometry=aoi, \n",
    "                          scale=30,\n",
    "                          maxPixels=1e9,\n",
    "                          bestEffort=True)\n",
    "elev_min = minMax.get('elevation_min')\n",
    "elev_max = minMax.get('elevation_max')\n",
    "print(f'Elevation range = {int(elev_min.getInfo())} to {int(elev_max.getInfo())} m')\n",
    "# colors based on the \"terrain\" palette from matplotlib\n",
    "palette = ['#333399', '#0d7fe5', '#00be90','#55dd77','#c6f48e','#e3db8a','#aa926b','#8e6e67','#c6b6b3','#ffffff']\n",
    "Map.addLayer(dem, {'palette': palette, 'min': elev_min, 'max': elev_max}, 'DEM')"
   ]
  },
  {
   "cell_type": "markdown",
   "id": "5cb54d54",
   "metadata": {},
   "source": [
    "Run Sentinel-2 Top of Atmosphere (TOA): 2016 onwards"
   ]
  },
  {
   "cell_type": "code",
   "execution_count": null,
   "id": "775d2a91",
   "metadata": {
    "scrolled": true
   },
   "outputs": [],
   "source": [
    "dataset = \"Sentinel-2_TOA\"\n",
    "utils.run_classification_pipeline(aoi, aoi_area, dem, dataset, date_start, date_end, month_start, month_end, \n",
    "                                  min_aoi_coverage, mask_clouds, out_folder, rgi_id, scale=None, verbose=False)"
   ]
  },
  {
   "cell_type": "markdown",
   "id": "bda52169",
   "metadata": {},
   "source": [
    "Run Sentinel-2 Surface Reflectance (SR): 2019 onwards"
   ]
  },
  {
   "cell_type": "code",
   "execution_count": 5,
   "id": "635b8117",
   "metadata": {
    "scrolled": true
   },
   "outputs": [
    {
     "data": {
      "text/html": [
       "\n",
       "            <style>\n",
       "                .geemap-dark {\n",
       "                    --jp-widgets-color: white;\n",
       "                    --jp-widgets-label-color: white;\n",
       "                    --jp-ui-font-color1: white;\n",
       "                    --jp-layout-color2: #454545;\n",
       "                    background-color: #383838;\n",
       "                }\n",
       "\n",
       "                .geemap-dark .jupyter-button {\n",
       "                    --jp-layout-color3: #383838;\n",
       "                }\n",
       "\n",
       "                .geemap-colab {\n",
       "                    background-color: var(--colab-primary-surface-color, white);\n",
       "                }\n",
       "\n",
       "                .geemap-colab .jupyter-button {\n",
       "                    --jp-layout-color3: var(--colab-primary-surface-color, white);\n",
       "                }\n",
       "            </style>\n",
       "            "
      ],
      "text/plain": [
       "<IPython.core.display.HTML object>"
      ]
     },
     "metadata": {},
     "output_type": "display_data"
    },
    {
     "name": "stdout",
     "output_type": "stream",
     "text": [
      "AOI area < 500 km2 — splitting date range by month.\n",
      "Number of date ranges = 40\n",
      "Exporting snow cover statistics to glacier-snow-cover_exports Google Drive folder with file naming convention: RGI2000-v7.0-G-01-14773_Sentinel-2_SR_snow_cover_stats_DATE-START_DATE-END.csv\n",
      "To monitor export tasks, see your Google Cloud Console or GEE Task Manager: https://code.earthengine.google.com/tasks\n",
      "('2019-05-01', '2019-05-31')\n",
      "...current queue length 2900\n",
      "('2019-06-01', '2019-06-30')\n",
      "...current queue length 2901\n",
      "('2019-07-01', '2019-07-31')\n",
      "...current queue length 2902\n",
      "('2019-08-01', '2019-08-31')\n",
      "...current queue length 2903\n",
      "('2019-09-01', '2019-09-30')\n",
      "...current queue length 2904\n",
      "('2019-10-01', '2019-10-31')\n",
      "...current queue length 2905\n",
      "('2020-05-01', '2020-05-31')\n",
      "...current queue length 2906\n",
      "('2020-06-01', '2020-06-30')\n",
      "...current queue length 2907\n",
      "('2020-07-01', '2020-07-31')\n",
      "...current queue length 2908\n",
      "('2020-08-01', '2020-08-31')\n",
      "...current queue length 2909\n",
      "('2020-09-01', '2020-09-30')\n",
      "...current queue length 2910\n",
      "('2020-10-01', '2020-10-31')\n",
      "...current queue length 2911\n",
      "('2021-05-01', '2021-05-31')\n",
      "...current queue length 2912\n",
      "('2021-06-01', '2021-06-30')\n",
      "...current queue length 2913\n",
      "('2021-07-01', '2021-07-31')\n",
      "...current queue length 2914\n",
      "('2021-08-01', '2021-08-31')\n",
      "...current queue length 2915\n",
      "('2021-09-01', '2021-09-30')\n",
      "...current queue length 2916\n",
      "('2021-10-01', '2021-10-31')\n",
      "...current queue length 2917\n",
      "('2022-05-01', '2022-05-31')\n",
      "...current queue length 2918\n",
      "('2022-06-01', '2022-06-30')\n",
      "...current queue length 2919\n",
      "('2022-07-01', '2022-07-31')\n",
      "...current queue length 2920\n",
      "('2022-08-01', '2022-08-31')\n",
      "...current queue length 2921\n",
      "('2022-09-01', '2022-09-30')\n",
      "...current queue length 2922\n",
      "('2022-10-01', '2022-10-31')\n",
      "...current queue length 2923\n",
      "('2023-05-01', '2023-05-31')\n",
      "...current queue length 2923\n",
      "('2023-06-01', '2023-06-30')\n",
      "...current queue length 2922\n",
      "('2023-07-01', '2023-07-31')\n",
      "...current queue length 2923\n",
      "('2023-08-01', '2023-08-31')\n",
      "...current queue length 2924\n",
      "('2023-09-01', '2023-09-30')\n",
      "...current queue length 2925\n",
      "('2023-10-01', '2023-10-31')\n",
      "...current queue length 2926\n",
      "('2024-05-01', '2024-05-31')\n",
      "...current queue length 2927\n",
      "('2024-06-01', '2024-06-30')\n",
      "...current queue length 2928\n",
      "('2024-07-01', '2024-07-31')\n",
      "...current queue length 2929\n",
      "('2024-08-01', '2024-08-31')\n",
      "...current queue length 2930\n",
      "('2024-09-01', '2024-09-30')\n",
      "...current queue length 2931\n",
      "('2024-10-01', '2024-10-31')\n",
      "...current queue length 2932\n",
      "('2025-05-01', '2025-05-31')\n",
      "...current queue length 2933\n",
      "('2025-06-01', '2025-06-30')\n",
      "...current queue length 2934\n",
      "('2025-07-01', '2025-07-31')\n",
      "...current queue length 2935\n",
      "('2025-08-01', '2025-08-15')\n",
      "...current queue length 2936\n"
     ]
    }
   ],
   "source": [
    "dataset = \"Sentinel-2_SR\"\n",
    "utils.run_classification_pipeline(aoi, aoi_area, dem, dataset, date_start, date_end, month_start, month_end, \n",
    "                                  min_aoi_coverage, mask_clouds, out_folder, rgi_id, scale=None, verbose=False)"
   ]
  },
  {
   "cell_type": "markdown",
   "id": "4c9aa464",
   "metadata": {},
   "source": [
    "Run Landsat 8/9 SR: 2013 onwards"
   ]
  },
  {
   "cell_type": "code",
   "execution_count": 6,
   "id": "a7765329",
   "metadata": {
    "scrolled": true
   },
   "outputs": [
    {
     "data": {
      "text/html": [
       "\n",
       "            <style>\n",
       "                .geemap-dark {\n",
       "                    --jp-widgets-color: white;\n",
       "                    --jp-widgets-label-color: white;\n",
       "                    --jp-ui-font-color1: white;\n",
       "                    --jp-layout-color2: #454545;\n",
       "                    background-color: #383838;\n",
       "                }\n",
       "\n",
       "                .geemap-dark .jupyter-button {\n",
       "                    --jp-layout-color3: #383838;\n",
       "                }\n",
       "\n",
       "                .geemap-colab {\n",
       "                    background-color: var(--colab-primary-surface-color, white);\n",
       "                }\n",
       "\n",
       "                .geemap-colab .jupyter-button {\n",
       "                    --jp-layout-color3: var(--colab-primary-surface-color, white);\n",
       "                }\n",
       "            </style>\n",
       "            "
      ],
      "text/plain": [
       "<IPython.core.display.HTML object>"
      ]
     },
     "metadata": {},
     "output_type": "display_data"
    },
    {
     "name": "stdout",
     "output_type": "stream",
     "text": [
      "AOI area < 500 km2 — splitting date range by month.\n",
      "Number of date ranges = 70\n",
      "Exporting snow cover statistics to glacier-snow-cover_exports Google Drive folder with file naming convention: RGI2000-v7.0-G-01-14773_Landsat_snow_cover_stats_DATE-START_DATE-END.csv\n",
      "To monitor export tasks, see your Google Cloud Console or GEE Task Manager: https://code.earthengine.google.com/tasks\n",
      "('2014-05-01', '2014-05-31')\n",
      "...current queue length 2934\n",
      "('2014-06-01', '2014-06-30')\n",
      "...current queue length 2935\n",
      "('2014-07-01', '2014-07-31')\n",
      "...current queue length 2936\n",
      "('2014-08-01', '2014-08-31')\n",
      "...current queue length 2937\n",
      "('2014-09-01', '2014-09-30')\n",
      "...current queue length 2938\n",
      "('2014-10-01', '2014-10-31')\n",
      "...current queue length 2939\n",
      "('2015-05-01', '2015-05-31')\n",
      "...current queue length 2940\n",
      "('2015-06-01', '2015-06-30')\n",
      "...current queue length 2941\n",
      "('2015-07-01', '2015-07-31')\n",
      "...current queue length 2942\n",
      "('2015-08-01', '2015-08-31')\n",
      "...current queue length 2943\n",
      "('2015-09-01', '2015-09-30')\n",
      "...current queue length 2944\n",
      "('2015-10-01', '2015-10-31')\n",
      "...current queue length 2945\n",
      "('2016-05-01', '2016-05-31')\n",
      "...current queue length 2946\n",
      "('2016-06-01', '2016-06-30')\n",
      "...current queue length 2947\n",
      "('2016-07-01', '2016-07-31')\n",
      "...current queue length 2948\n",
      "('2016-08-01', '2016-08-31')\n",
      "...current queue length 2949\n",
      "('2016-09-01', '2016-09-30')\n",
      "...current queue length 2950\n",
      "('2016-10-01', '2016-10-31')\n",
      "...current queue length 2951\n",
      "('2017-05-01', '2017-05-31')\n",
      "...current queue length 2952\n",
      "('2017-06-01', '2017-06-30')\n",
      "...current queue length 2953\n",
      "('2017-07-01', '2017-07-31')\n",
      "...current queue length 2953\n",
      "('2017-08-01', '2017-08-31')\n",
      "...current queue length 2954\n",
      "('2017-09-01', '2017-09-30')\n",
      "...current queue length 2955\n",
      "('2017-10-01', '2017-10-31')\n",
      "...current queue length 2956\n",
      "('2018-05-01', '2018-05-31')\n",
      "...current queue length 2957\n",
      "('2018-06-01', '2018-06-30')\n",
      "...current queue length 2958\n",
      "('2018-07-01', '2018-07-31')\n",
      "...current queue length 2959\n",
      "('2018-08-01', '2018-08-31')\n",
      "...current queue length 2960\n",
      "('2018-09-01', '2018-09-30')\n",
      "...current queue length 2961\n",
      "('2018-10-01', '2018-10-31')\n",
      "...current queue length 2962\n",
      "('2019-05-01', '2019-05-31')\n",
      "...current queue length 2963\n",
      "('2019-06-01', '2019-06-30')\n",
      "...current queue length 2964\n",
      "('2019-07-01', '2019-07-31')\n",
      "...current queue length 2965\n",
      "('2019-08-01', '2019-08-31')\n",
      "...current queue length 2966\n",
      "('2019-09-01', '2019-09-30')\n",
      "...current queue length 2967\n",
      "('2019-10-01', '2019-10-31')\n",
      "...current queue length 2968\n",
      "('2020-05-01', '2020-05-31')\n",
      "...current queue length 2969\n",
      "('2020-06-01', '2020-06-30')\n",
      "...current queue length 2970\n",
      "('2020-07-01', '2020-07-31')\n",
      "...current queue length 2971\n",
      "('2020-08-01', '2020-08-31')\n",
      "...current queue length 2972\n",
      "('2020-09-01', '2020-09-30')\n",
      "...current queue length 2973\n",
      "('2020-10-01', '2020-10-31')\n",
      "...current queue length 2974\n",
      "('2021-05-01', '2021-05-31')\n",
      "...current queue length 2975\n",
      "('2021-06-01', '2021-06-30')\n",
      "...current queue length 2976\n",
      "('2021-07-01', '2021-07-31')\n",
      "...current queue length 2977\n",
      "('2021-08-01', '2021-08-31')\n",
      "...current queue length 2978\n",
      "('2021-09-01', '2021-09-30')\n",
      "...current queue length 2979\n",
      "('2021-10-01', '2021-10-31')\n",
      "...current queue length 2980\n",
      "('2022-05-01', '2022-05-31')\n",
      "...current queue length 2981\n",
      "('2022-06-01', '2022-06-30')\n",
      "...current queue length 2982\n",
      "('2022-07-01', '2022-07-31')\n",
      "...current queue length 2983\n",
      "('2022-08-01', '2022-08-31')\n",
      "...current queue length 2984\n",
      "('2022-09-01', '2022-09-30')\n",
      "...current queue length 2985\n",
      "('2022-10-01', '2022-10-31')\n",
      "...current queue length 2986\n",
      "('2023-05-01', '2023-05-31')\n",
      "...current queue length 2987\n",
      "('2023-06-01', '2023-06-30')\n",
      "...current queue length 2988\n",
      "('2023-07-01', '2023-07-31')\n",
      "...current queue length 2989\n",
      "('2023-08-01', '2023-08-31')\n",
      "...current queue length 2990\n",
      "('2023-09-01', '2023-09-30')\n",
      "...current queue length 2991\n",
      "('2023-10-01', '2023-10-31')\n",
      "...current queue length 2992\n",
      "('2024-05-01', '2024-05-31')\n",
      "...current queue length 2993\n",
      "('2024-06-01', '2024-06-30')\n",
      "...current queue length 2994\n",
      "('2024-07-01', '2024-07-31')\n",
      "...current queue length 2995\n",
      "('2024-08-01', '2024-08-31')\n",
      "...current queue length 2996\n",
      "('2024-09-01', '2024-09-30')\n",
      "...current queue length 2997\n",
      "('2024-10-01', '2024-10-31')\n",
      "...current queue length 2998\n",
      "sleep time = 480 s\n",
      "('2025-05-01', '2025-05-31')\n",
      "...current queue length 2998\n",
      "sleep time = 480 s\n",
      "('2025-06-01', '2025-06-30')\n",
      "...current queue length 2996\n",
      "('2025-07-01', '2025-07-31')\n",
      "...current queue length 2997\n",
      "('2025-08-01', '2025-08-15')\n",
      "...current queue length 2998\n",
      "sleep time = 480 s\n"
     ]
    }
   ],
   "source": [
    "dataset = \"Landsat\"\n",
    "utils.run_classification_pipeline(aoi, aoi_area, dem, dataset, date_start, date_end, month_start, month_end, \n",
    "                                  min_aoi_coverage, mask_clouds, out_folder, rgi_id, scale=None, verbose=False)"
   ]
  },
  {
   "cell_type": "markdown",
   "id": "c6238f5a-128f-4c5a-8095-8ed5b762f38f",
   "metadata": {},
   "source": [
    "## Run the pipeline for multiple glaciers\n",
    "\n",
    "First, create a list of glacier IDs for analysis. \n",
    "\n",
    "Below is an example selection of glaciers, where the full RGI v. 7 collection is filtered by RGI O2 region (\"o2region\") and area (\"area_km2\"). For the full list of properties available for filtering, see the [RGI v. 7 documentation](https://www.glims.org/rgi_user_guide/products/glacier_product.html#full-list-of-attributes) or run the following command: \n",
    "\n",
    "`rgi.first().propertyNames().getInfo()`"
   ]
  },
  {
   "cell_type": "code",
   "execution_count": 8,
   "id": "aacaa02f-2eab-4798-92ff-b55b17a5b9e2",
   "metadata": {},
   "outputs": [
    {
     "data": {
      "text/html": [
       "\n",
       "            <style>\n",
       "                .geemap-dark {\n",
       "                    --jp-widgets-color: white;\n",
       "                    --jp-widgets-label-color: white;\n",
       "                    --jp-ui-font-color1: white;\n",
       "                    --jp-layout-color2: #454545;\n",
       "                    background-color: #383838;\n",
       "                }\n",
       "\n",
       "                .geemap-dark .jupyter-button {\n",
       "                    --jp-layout-color3: #383838;\n",
       "                }\n",
       "\n",
       "                .geemap-colab {\n",
       "                    background-color: var(--colab-primary-surface-color, white);\n",
       "                }\n",
       "\n",
       "                .geemap-colab .jupyter-button {\n",
       "                    --jp-layout-color3: var(--colab-primary-surface-color, white);\n",
       "                }\n",
       "            </style>\n",
       "            "
      ],
      "text/plain": [
       "<IPython.core.display.HTML object>"
      ]
     },
     "metadata": {},
     "output_type": "display_data"
    },
    {
     "name": "stdout",
     "output_type": "stream",
     "text": [
      "RGI2000-v7.0-G-01-14773\n",
      "Number of glaciers selected: 96\n"
     ]
    }
   ],
   "source": [
    "# Load the RGI v. 7 dataset\n",
    "rgi = ee.FeatureCollection(\"projects/ee-raineyaberle/assets/glacier-snow-cover-mapping/RGI2000-v7-G\")\n",
    "\n",
    "# Filter by region and subregion\n",
    "rgi_r1r2 = rgi.filter(ee.Filter.eq('o2region', '01-05')) # filter by RGI subregion (e.g., \"01-05\" = Alaska, St. Elias)\n",
    "\n",
    "# Filter by glacier area\n",
    "rgi_area_filt = rgi_r1r2.filter(ee.Filter.gt('area_km2', 10)) # area km2\n",
    "rgi_area_filt = rgi_area_filt.filter(ee.Filter.lt('area_km2', 100)) # area km2 (pixel scaling applies for >3000km^2 and issues arise at >10000km^2)\n",
    "\n",
    "# Get the list of RGI IDs\n",
    "id_list = rgi_area_filt.aggregate_array('rgi_id')\n",
    "id_list = id_list.getInfo()\n",
    "# print(id_list[52]) #use this to double-check you are restarting on the right index\n",
    "print('Number of glaciers selected:', len(id_list))"
   ]
  },
  {
   "cell_type": "code",
   "execution_count": null,
   "id": "cf593c39-45b4-4d96-acec-a81615fe3108",
   "metadata": {
    "scrolled": true
   },
   "outputs": [
    {
     "data": {
      "text/html": [
       "\n",
       "            <style>\n",
       "                .geemap-dark {\n",
       "                    --jp-widgets-color: white;\n",
       "                    --jp-widgets-label-color: white;\n",
       "                    --jp-ui-font-color1: white;\n",
       "                    --jp-layout-color2: #454545;\n",
       "                    background-color: #383838;\n",
       "                }\n",
       "\n",
       "                .geemap-dark .jupyter-button {\n",
       "                    --jp-layout-color3: #383838;\n",
       "                }\n",
       "\n",
       "                .geemap-colab {\n",
       "                    background-color: var(--colab-primary-surface-color, white);\n",
       "                }\n",
       "\n",
       "                .geemap-colab .jupyter-button {\n",
       "                    --jp-layout-color3: var(--colab-primary-surface-color, white);\n",
       "                }\n",
       "            </style>\n",
       "            "
      ],
      "text/plain": [
       "<IPython.core.display.HTML object>"
      ]
     },
     "metadata": {},
     "output_type": "display_data"
    },
    {
     "name": "stdout",
     "output_type": "stream",
     "text": [
      "Glacier # 53\n",
      "Glacier ID used for output file names: RGI2000-v7.0-G-01-15706\n",
      "Glacier area = 56.75453740224053 km2\n",
      "\n",
      "Querying GEE for DEM\n",
      "ArcticDEM coverage = 100 %\n",
      "Using ArcticDEM Mosaic\n",
      "AOI area < 500 km2 — splitting date range by month.\n",
      "Number of date ranges = 58\n",
      "Exporting snow cover statistics to glacier-snow-cover_exports Google Drive folder with file naming convention: RGI2000-v7.0-G-01-15706_Sentinel-2_TOA_snow_cover_stats_DATE-START_DATE-END.csv\n",
      "To monitor export tasks, see your Google Cloud Console or GEE Task Manager: https://code.earthengine.google.com/tasks\n",
      "('2016-05-01', '2016-05-31')\n",
      "...current queue length 2989\n",
      "('2016-06-01', '2016-06-30')\n",
      "...current queue length 2990\n",
      "('2016-07-01', '2016-07-31')\n",
      "...current queue length 2989\n",
      "('2016-08-01', '2016-08-31')\n",
      "...current queue length 2990\n",
      "('2016-09-01', '2016-09-30')\n",
      "...current queue length 2991\n",
      "('2016-10-01', '2016-10-31')\n",
      "...current queue length 2992\n",
      "('2017-05-01', '2017-05-31')\n",
      "...current queue length 2993\n",
      "('2017-06-01', '2017-06-30')\n",
      "...current queue length 2994\n",
      "('2017-07-01', '2017-07-31')\n",
      "...current queue length 2995\n",
      "('2017-08-01', '2017-08-31')\n",
      "...current queue length 2996\n",
      "('2017-09-01', '2017-09-30')\n",
      "...current queue length 2997\n",
      "('2017-10-01', '2017-10-31')\n",
      "...current queue length 2998\n",
      "sleep time = 1680 s\n",
      "('2018-05-01', '2018-05-31')\n",
      "...current queue length 2988\n",
      "('2018-06-01', '2018-06-30')\n",
      "...current queue length 2989\n",
      "('2018-07-01', '2018-07-31')\n",
      "...current queue length 2990\n",
      "('2018-08-01', '2018-08-31')\n",
      "...current queue length 2991\n",
      "('2018-09-01', '2018-09-30')\n",
      "...current queue length 2992\n",
      "('2018-10-01', '2018-10-31')\n",
      "...current queue length 2993\n",
      "('2019-05-01', '2019-05-31')\n",
      "...current queue length 2994\n",
      "('2019-06-01', '2019-06-30')\n",
      "...current queue length 2995\n",
      "('2019-07-01', '2019-07-31')\n",
      "...current queue length 2996\n",
      "('2019-08-01', '2019-08-31')\n",
      "...current queue length 2997\n",
      "('2019-09-01', '2019-09-30')\n",
      "...current queue length 2998\n",
      "sleep time = 1680 s\n"
     ]
    }
   ],
   "source": [
    "# Iterate over RGI IDs\n",
    "for i in range(0,len(id_list))[53:55]: #add [0:1] to test for one\n",
    "    rgi_id = id_list[i]\n",
    "    print(\"Glacier #\",i)\n",
    "    print(\"Glacier ID used for output file names:\", rgi_id)\n",
    "\n",
    "    # grab glacier area of interest\n",
    "    aoi = rgi.filter(ee.Filter.eq('rgi_id', rgi_id))\n",
    "    aoi = aoi.geometry()\n",
    "    aoi_area = aoi.area().getInfo() # save area [m^2] for splitting date ranges later\n",
    "    print(f\"Glacier area = {aoi_area/1e6} km2\")\n",
    "\n",
    "    # Query GEE for DEM\n",
    "    dem = utils.query_gee_for_dem(aoi) \n",
    "\n",
    "    # Run pipeline for each dataset\n",
    "    for dataset in ['Sentinel-2_TOA','Sentinel-2_SR','Landsat']: #specify ['Sentinel-2_TOA','Sentinel-2_SR','Landsat'] for all satellites\n",
    "        utils.run_classification_pipeline(aoi, aoi_area, dem, dataset, date_start, date_end, month_start, month_end, \n",
    "                                          min_aoi_coverage, mask_clouds, out_folder, rgi_id, scale=None, verbose=False)\n",
    "\n",
    "    print('...moving on... \\n')\n",
    "    "
   ]
  },
  {
   "cell_type": "code",
   "execution_count": null,
   "id": "b5a43536-c476-4b82-a562-d09621a8118d",
   "metadata": {},
   "outputs": [],
   "source": []
  }
 ],
 "metadata": {
  "kernelspec": {
   "display_name": "glasee",
   "language": "python",
   "name": "glasee"
  },
  "language_info": {
   "codemirror_mode": {
    "name": "ipython",
    "version": 3
   },
   "file_extension": ".py",
   "mimetype": "text/x-python",
   "name": "python",
   "nbconvert_exporter": "python",
   "pygments_lexer": "ipython3",
   "version": "3.11.13"
  }
 },
 "nbformat": 4,
 "nbformat_minor": 5
}
