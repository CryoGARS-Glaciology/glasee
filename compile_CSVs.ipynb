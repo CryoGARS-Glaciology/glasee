{
  "cells": [
    {
      "cell_type": "markdown",
      "metadata": {
        "id": "CJHefI4IZkaM"
      },
      "source": [
        "# Compile CSVs exported from the GlaSEE pipeline\n",
        "\n",
        "__NOTE:__ You must do one of the following to access your CSVs\n",
        "\n",
        "- Upload this notebook to your Google Drive and run as a Colab notebook.\n",
        "\n",
        "- Download the CSVs locally.\n",
        "\n",
        "- Download Google Drive Desktop or other software for mounting your Drive locally."
      ]
    },
    {
      "cell_type": "code",
      "execution_count": null,
      "metadata": {
        "id": "m_GS3ud2HNw1"
      },
      "outputs": [],
      "source": [
        "import pandas as pd\n",
        "import matplotlib.pyplot as plt\n",
        "from glob import glob\n",
        "import os\n",
        "import seaborn as sns"
      ]
    },
    {
      "cell_type": "markdown",
      "metadata": {
        "id": "lrcy1ce0cKqw"
      },
      "source": [
        "## Define path to files"
      ]
    },
    {
      "cell_type": "code",
      "execution_count": null,
      "metadata": {
        "colab": {
          "base_uri": "https://localhost:8080/"
        },
        "id": "kSQuWAlrbxlb",
        "outputId": "e14dee7b-b0a7-4235-da5c-d4af627b6f8f"
      },
      "outputs": [],
      "source": [
        "# If using Google Colab, mount your Drive\n",
        "from google.colab import drive\n",
        "drive.mount('/content/drive')\n",
        "\n",
        "# Define to the Google Drive folder with exported CSV files\n",
        "out_path = '/content/drive/My Drive/glacier_snow_cover_exports/'"
      ]
    },
    {
      "cell_type": "markdown",
      "metadata": {
        "id": "Oo5TR2WOcRUd"
      },
      "source": [
        "## Compile CSVs"
      ]
    },
    {
      "cell_type": "code",
      "execution_count": null,
      "metadata": {
        "colab": {
          "base_uri": "https://localhost:8080/"
        },
        "id": "RaZw5gITHQTV",
        "outputId": "f84a63a5-4497-498b-e40a-c9316cf55b8d"
      },
      "outputs": [],
      "source": [
        "# -----Option 1: enter glacier IDs manually\n",
        "# May be desired if some are glaciers still exporting, etc.\n",
        "# glacier_IDs = ['G219787E60289N']\n",
        "\n",
        "# -----Option 2: Grab all the glacier IDs in the folder\n",
        "all_files = glob(os.path.join(out_path, '*.csv'))\n",
        "ids = []\n",
        "for file in all_files:\n",
        "  id = file.split('/')[-1].split('_')[0]\n",
        "  ids.append(id)\n",
        "glacier_IDs = list(set(ids))\n",
        "glacier_IDs.sort()\n",
        "glacier_IDs\n",
        "\n",
        "print('Number of unique glacier IDs:', len(glacier_IDs))\n",
        "print(glacier_IDs)"
      ]
    },
    {
      "cell_type": "code",
      "execution_count": null,
      "metadata": {
        "colab": {
          "base_uri": "https://localhost:8080/"
        },
        "collapsed": true,
        "id": "m8OK81EjNadC",
        "outputId": "5d4a45a0-a006-4cdc-aaf8-afb2836b10bf"
      },
      "outputs": [],
      "source": [
        "# Iterate over glacier IDs\n",
        "for glacier_ID in glacier_IDs:\n",
        "  print('\\n', glacier_ID)\n",
        "\n",
        "  # Define output file name\n",
        "  out_fn = os.path.join(out_path, glacier_ID + '_timeseries.csv')\n",
        "  if os.path.exists(out_fn):\n",
        "    print(f'Compiled CSV already exists, skipping.')\n",
        "\n",
        "  # Iterate over CSVs\n",
        "  files = glob(os.path.join(out_path, glacier_ID + '*snow_cover_stats*.csv'))\n",
        "  print(f'Found {len(files)} CSVs to compile')\n",
        "  dfs = []\n",
        "  for file in files:\n",
        "    try:\n",
        "      df = pd.read_csv(file)\n",
        "      dfs.append(df)\n",
        "    except:\n",
        "      print('Error reading',file)\n",
        "\n",
        "  # Compile and save new CSV to file\n",
        "  if len(dfs) > 0:\n",
        "    # concatenate dataframes\n",
        "    glacier_df = pd.concat(dfs)\n",
        "\n",
        "    # sort by date\n",
        "    glacier_df = glacier_df.sort_values(by='date')\n",
        "\n",
        "    # get rid of empty columns\n",
        "    glacier_df = glacier_df.drop(columns=['system:index', '.geo'])\n",
        "\n",
        "    # save to file\n",
        "    glacier_df.to_csv(out_fn, index=False)\n",
        "    print('Compiled time series saved to file:', out_fn)\n"
      ]
    },
    {
      "cell_type": "markdown",
      "metadata": {
        "id": "bzhPguQobWnM"
      },
      "source": [
        "## Plot some time series data for each glacier"
      ]
    },
    {
      "cell_type": "code",
      "execution_count": null,
      "metadata": {
        "colab": {
          "base_uri": "https://localhost:8080/",
          "height": 333
        },
        "id": "xhLfIOIaR_et",
        "outputId": "3d991ded-f5a0-49f4-a422-e524d13833e0"
      },
      "outputs": [],
      "source": [
        "# Iterate over glacier IDs\n",
        "for glacier_ID in glacier_IDs:\n",
        "  # load compiled time series\n",
        "  df = pd.read_csv(os.path.join(out_path, glacier_ID + '_timeseries.csv'))\n",
        "  df['date'] = pd.to_datetime(df['date'])\n",
        "\n",
        "  # plot\n",
        "  fig, ax = plt.subplots(figsize=(8,3))\n",
        "  sns.scatterplot(df, x='date', y='transient_AAR', hue='source', sizes=10)\n",
        "  ax.set_title(glacier_ID)\n",
        "  ax.set_ylim(-0.1, 1.1)\n",
        "  plt.grid()\n",
        "  plt.show()"
      ]
    },
    {
      "cell_type": "markdown",
      "metadata": {
        "id": "98rhTdHbbSmf"
      },
      "source": [
        "## Optional: delete the raw files"
      ]
    },
    {
      "cell_type": "code",
      "execution_count": null,
      "metadata": {
        "id": "ewQ5b_9kN9t1"
      },
      "outputs": [],
      "source": [
        "# once ready, delete the raw files\n",
        "for glacier_ID in glacier_IDs:\n",
        "  raw_files = glob(os.path.join(out_path, glacier_ID + '*snow_cover_stats*.csv'))\n",
        "  for file in raw_files:\n",
        "    print(file)\n",
        "    os.remove(file)\n"
      ]
    }
  ],
  "metadata": {
    "colab": {
      "provenance": []
    },
    "kernelspec": {
      "display_name": "glasee",
      "language": "python",
      "name": "python3"
    },
    "language_info": {
      "name": "python",
      "version": "3.11.13"
    }
  },
  "nbformat": 4,
  "nbformat_minor": 0
}
