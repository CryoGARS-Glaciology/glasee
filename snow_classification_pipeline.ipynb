{
 "cells": [
  {
   "cell_type": "markdown",
   "id": "679c57e8",
   "metadata": {},
   "source": [
    "# Classification pipeline using GEE classifiers\n",
    "\n",
    "Full glacier-snow-cover-mapping classification pipeline for Sentinel-2 TOA, Sentinel-2 SR, and Landsat 8/9 images. \n",
    "\n",
    "__Requirements:__\n",
    "1. Google Earth Engine (GEE) account: used to query imagery and the DEM (if no DEM is provided). Sign up for a free account [here](https://earthengine.google.com/new_signup/). \n",
    "\n",
    "2. Google Drive folder: Create a folder where output snow cover statistics will be saved. Enter the name of this folder as the `out_folder` variable below. If you don't create the folder ahead of time, duplicates of the same folder will be created for each output file! "
   ]
  },
  {
   "cell_type": "markdown",
   "id": "2b90f0f8",
   "metadata": {},
   "source": [
    "## Define image search settings and paths"
   ]
  },
  {
   "cell_type": "code",
   "execution_count": 1,
   "id": "46d472ad",
   "metadata": {},
   "outputs": [
    {
     "name": "stderr",
     "output_type": "stream",
     "text": [
      "/Users/raineyaberle/opt/anaconda3/envs/gscm_gee/lib/python3.11/site-packages/geemap/conversion.py:23: UserWarning: pkg_resources is deprecated as an API. See https://setuptools.pypa.io/en/latest/pkg_resources.html. The pkg_resources package is slated for removal as early as 2025-11-30. Refrain from using this package or pin to Setuptools<81.\n",
      "  import pkg_resources\n"
     ]
    }
   ],
   "source": [
    "import os\n",
    "import ee\n",
    "import geemap\n",
    "import sys\n",
    "import numpy as np\n",
    "\n",
    "# -----Define Google Drive folder for outputs\n",
    "# Note: Make sure this folder already exists and is the only folder in your \"My Drive\" with that name. \n",
    "out_folder = 'glacier_snow_cover_exports'\n",
    "\n",
    "# -----Import pipeline utilities\n",
    "# Assumes pipeline_utils.py is in the same folder as this notebook\n",
    "script_path = os.getcwd()\n",
    "sys.path.append(script_path)\n",
    "import pipeline_utils as utils\n",
    "\n",
    "# -----Define image search settings\n",
    "# Date and month ranges (inclusive)\n",
    "date_start = '2013-06-01'\n",
    "date_end = '2025-06-25'\n",
    "month_start = 6\n",
    "month_end = 10\n",
    "# Minimum fill portion of the AOI (0–100), used to remove images after mosaicking by day. \n",
    "min_aoi_coverage = 70\n",
    "# Whether to mask clouds using the respective cloud mask via the geedim package\n",
    "mask_clouds = True"
   ]
  },
  {
   "cell_type": "markdown",
   "id": "2e1fe38a",
   "metadata": {},
   "source": [
    "## Authenticate and/or Initialize Google Earth Engine (GEE)\n",
    "\n",
    "Replace the project ID with your GEE project. Default = `ee-{GEE-username}`"
   ]
  },
  {
   "cell_type": "code",
   "execution_count": 2,
   "id": "c276471a",
   "metadata": {},
   "outputs": [
    {
     "data": {
      "text/html": [
       "\n",
       "            <style>\n",
       "                .geemap-dark {\n",
       "                    --jp-widgets-color: white;\n",
       "                    --jp-widgets-label-color: white;\n",
       "                    --jp-ui-font-color1: white;\n",
       "                    --jp-layout-color2: #454545;\n",
       "                    background-color: #383838;\n",
       "                }\n",
       "\n",
       "                .geemap-dark .jupyter-button {\n",
       "                    --jp-layout-color3: #383838;\n",
       "                }\n",
       "\n",
       "                .geemap-colab {\n",
       "                    background-color: var(--colab-primary-surface-color, white);\n",
       "                }\n",
       "\n",
       "                .geemap-colab .jupyter-button {\n",
       "                    --jp-layout-color3: var(--colab-primary-surface-color, white);\n",
       "                }\n",
       "            </style>\n",
       "            "
      ],
      "text/plain": [
       "<IPython.core.display.HTML object>"
      ]
     },
     "metadata": {},
     "output_type": "display_data"
    }
   ],
   "source": [
    "# project_id = \"snow-cover-mapping-463217\"\n",
    "project_id = \"ee-raineyaberle\"\n",
    "\n",
    "try:\n",
    "    ee.Initialize(project=project_id)\n",
    "except:\n",
    "    ee.Authenticate()\n",
    "    ee.Initialize(project=project_id)"
   ]
  },
  {
   "cell_type": "markdown",
   "id": "2730e1cf",
   "metadata": {},
   "source": [
    "## Select the Area of Interest (AOI) from the GLIMS dataset\n",
    "\n",
    "This cell will plot the GLIMS dataset on a map. To find a glacier, click on the wrench in the upper right toolbox of the map, and use the \"Inspector\" to click on a polygon and view the its properties. Right click on the \"glac_id\" property to highlight and then copy. Replace the `glac_id` variable below with your selected site. "
   ]
  },
  {
   "cell_type": "code",
   "execution_count": 3,
   "id": "6b29f48c",
   "metadata": {},
   "outputs": [
    {
     "data": {
      "text/html": [
       "\n",
       "            <style>\n",
       "                .geemap-dark {\n",
       "                    --jp-widgets-color: white;\n",
       "                    --jp-widgets-label-color: white;\n",
       "                    --jp-ui-font-color1: white;\n",
       "                    --jp-layout-color2: #454545;\n",
       "                    background-color: #383838;\n",
       "                }\n",
       "\n",
       "                .geemap-dark .jupyter-button {\n",
       "                    --jp-layout-color3: #383838;\n",
       "                }\n",
       "\n",
       "                .geemap-colab {\n",
       "                    background-color: var(--colab-primary-surface-color, white);\n",
       "                }\n",
       "\n",
       "                .geemap-colab .jupyter-button {\n",
       "                    --jp-layout-color3: var(--colab-primary-surface-color, white);\n",
       "                }\n",
       "            </style>\n",
       "            "
      ],
      "text/plain": [
       "<IPython.core.display.HTML object>"
      ]
     },
     "metadata": {},
     "output_type": "display_data"
    },
    {
     "name": "stdout",
     "output_type": "stream",
     "text": [
      "Glacier ID used for output files: G219787E60289N\n"
     ]
    },
    {
     "data": {
      "application/vnd.jupyter.widget-view+json": {
       "model_id": "203f62244a9d466284c640b122bc2fa1",
       "version_major": 2,
       "version_minor": 0
      },
      "text/plain": [
       "Map(center=[0, 0], controls=(WidgetControl(options=['position', 'transparent_bg'], widget=SearchDataGUI(childr…"
      ]
     },
     "execution_count": 3,
     "metadata": {},
     "output_type": "execute_result"
    }
   ],
   "source": [
    "# Create a Map\n",
    "Map = geemap.Map()\n",
    "\n",
    "# Load the GLIMS dataset, add to the map\n",
    "glims = ee.FeatureCollection('GLIMS/20230607')\n",
    "Map.addLayer(glims, {'color': 'blue', 'opacity':  0.5}, 'GLIMS/20230607')\n",
    "\n",
    "# Select your study site from the GLIMS dataset\n",
    "# glac_id = 'G211100E60420N'\n",
    "# aoi = glims.filter(ee.Filter.eq('glac_id', glac_id))\n",
    "\n",
    "# Test with the largest AK glacier (Malaspina)\n",
    "aoi_ak = (glims.filter(ee.Filter.eq('gtng_o1reg', 1))) # filter to AK\n",
    "aoi_ak_largest = aoi_ak.filter(ee.Filter.eq('area', aoi_ak.aggregate_max('area'))) # Get the largest AK glacier\n",
    "aoi = aoi_ak_largest\n",
    "glac_id = aoi.aggregate_array('glac_id').getInfo()[0] # use GLIMS ID for output file names\n",
    "print(\"Glacier ID used for output files:\", glac_id)\n",
    "                                 \n",
    "# Merge all geometries to use as the AOI \n",
    "aoi = aoi.union().geometry()\n",
    "\n",
    "# Add AOI to the map\n",
    "Map.addLayer(aoi, {'color': 'orange', 'opacity': 0.8}, 'AOI')\n",
    "Map.centerObject(aoi)\n",
    "\n",
    "# Display the map\n",
    "Map"
   ]
  },
  {
   "cell_type": "markdown",
   "id": "40ca915f",
   "metadata": {},
   "source": [
    "## Load the Digital Elevation Model (DEM)\n",
    "\n",
    "Default: use the ArcticDEM Mosaic where there is > 90 % coverage. Otherwise, use the NASADEM. For sites that use the ArcticDEM Mosaic, elevations are reprojected to the EGM96 geoid to match the vertical datum of NASADEM. "
   ]
  },
  {
   "cell_type": "code",
   "execution_count": 4,
   "id": "2fe69f32",
   "metadata": {},
   "outputs": [
    {
     "data": {
      "text/html": [
       "\n",
       "            <style>\n",
       "                .geemap-dark {\n",
       "                    --jp-widgets-color: white;\n",
       "                    --jp-widgets-label-color: white;\n",
       "                    --jp-ui-font-color1: white;\n",
       "                    --jp-layout-color2: #454545;\n",
       "                    background-color: #383838;\n",
       "                }\n",
       "\n",
       "                .geemap-dark .jupyter-button {\n",
       "                    --jp-layout-color3: #383838;\n",
       "                }\n",
       "\n",
       "                .geemap-colab {\n",
       "                    background-color: var(--colab-primary-surface-color, white);\n",
       "                }\n",
       "\n",
       "                .geemap-colab .jupyter-button {\n",
       "                    --jp-layout-color3: var(--colab-primary-surface-color, white);\n",
       "                }\n",
       "            </style>\n",
       "            "
      ],
      "text/plain": [
       "<IPython.core.display.HTML object>"
      ]
     },
     "metadata": {},
     "output_type": "display_data"
    },
    {
     "name": "stdout",
     "output_type": "stream",
     "text": [
      "\n",
      "Querying GEE for DEM\n",
      "ArcticDEM coverage = 100 %\n",
      "Using ArcticDEM Mosaic\n",
      "Elevation range = -1 to 5952 m\n"
     ]
    }
   ],
   "source": [
    "# Query GEE for DEM\n",
    "dem = utils.query_gee_for_dem(aoi)\n",
    "\n",
    "# Add DEM to map\n",
    "# grab min and max elevations for color limits\n",
    "minMax = dem.reduceRegion(reducer=ee.Reducer.minMax(),\n",
    "                          geometry=aoi, \n",
    "                          scale=30,\n",
    "                          maxPixels=1e9,\n",
    "                          bestEffort=True)\n",
    "elev_min = minMax.get('elevation_min')\n",
    "elev_max = minMax.get('elevation_max')\n",
    "print(f'Elevation range = {int(elev_min.getInfo())} to {int(elev_max.getInfo())} m')\n",
    "# colors based on the \"terrain\" palette from matplotlib\n",
    "palette = ['#333399', '#0d7fe5', '#00be90','#55dd77','#c6f48e','#e3db8a','#aa926b','#8e6e67','#c6b6b3','#ffffff']\n",
    "Map.addLayer(dem, {'palette': palette, 'min': elev_min, 'max': elev_max}, 'DEM')"
   ]
  },
  {
   "cell_type": "markdown",
   "id": "f8eaaabd",
   "metadata": {},
   "source": [
    "## Run the classification pipeline for each image dataset"
   ]
  },
  {
   "cell_type": "markdown",
   "id": "5cb54d54",
   "metadata": {},
   "source": [
    "### Sentinel-2 Top of Atmosphere (TOA): 2016 onwards\n",
    "\n",
    "Note: While Sentinel-2 launched in 2015, Sentinel-2 Surface Reflectance (below) is only available on GEE starting in ~2019. Therefore, Sentinel-2 TOA can be used to increase temporal coverage from 2015–2019 in particular. "
   ]
  },
  {
   "cell_type": "code",
   "execution_count": 14,
   "id": "775d2a91",
   "metadata": {
    "scrolled": true
   },
   "outputs": [
    {
     "data": {
      "text/html": [
       "\n",
       "            <style>\n",
       "                .geemap-dark {\n",
       "                    --jp-widgets-color: white;\n",
       "                    --jp-widgets-label-color: white;\n",
       "                    --jp-ui-font-color1: white;\n",
       "                    --jp-layout-color2: #454545;\n",
       "                    background-color: #383838;\n",
       "                }\n",
       "\n",
       "                .geemap-dark .jupyter-button {\n",
       "                    --jp-layout-color3: #383838;\n",
       "                }\n",
       "\n",
       "                .geemap-colab {\n",
       "                    background-color: var(--colab-primary-surface-color, white);\n",
       "                }\n",
       "\n",
       "                .geemap-colab .jupyter-button {\n",
       "                    --jp-layout-color3: var(--colab-primary-surface-color, white);\n",
       "                }\n",
       "            </style>\n",
       "            "
      ],
      "text/plain": [
       "<IPython.core.display.HTML object>"
      ]
     },
     "metadata": {},
     "output_type": "display_data"
    },
    {
     "name": "stdout",
     "output_type": "stream",
     "text": [
      "Estimated image size over AOI for Sentinel-2_TOA: 795.32 MB\n",
      "Image size exceeds GEE's 10 MB limit. Using scale = 90 m\n",
      "\n",
      " ('2016-06-01', '2016-10-31')\n",
      "Querying GEE for Sentinel-2_TOA image collection\n",
      "Classifying image collection\n",
      "Calculating snow cover statistics\n",
      "Exporting snow cover statistics to glacier_snow_cover_exports Google Drive folder with file name: G219787E60289N_Sentinel-2_TOA_snow_cover_stats_2016-06-01_2016-10-31\n",
      "To monitor tasks, go to your GEE Task Manager: https://code.earthengine.google.com/tasks\n",
      "\n",
      " ('2017-06-01', '2017-10-31')\n",
      "Querying GEE for Sentinel-2_TOA image collection\n",
      "Classifying image collection\n",
      "Calculating snow cover statistics\n",
      "Exporting snow cover statistics to glacier_snow_cover_exports Google Drive folder with file name: G219787E60289N_Sentinel-2_TOA_snow_cover_stats_2017-06-01_2017-10-31\n",
      "To monitor tasks, go to your GEE Task Manager: https://code.earthengine.google.com/tasks\n",
      "\n",
      " ('2018-06-01', '2018-10-31')\n",
      "Querying GEE for Sentinel-2_TOA image collection\n",
      "Classifying image collection\n",
      "Calculating snow cover statistics\n",
      "Exporting snow cover statistics to glacier_snow_cover_exports Google Drive folder with file name: G219787E60289N_Sentinel-2_TOA_snow_cover_stats_2018-06-01_2018-10-31\n",
      "To monitor tasks, go to your GEE Task Manager: https://code.earthengine.google.com/tasks\n",
      "\n",
      " ('2019-06-01', '2019-10-31')\n",
      "Querying GEE for Sentinel-2_TOA image collection\n",
      "Classifying image collection\n",
      "Calculating snow cover statistics\n",
      "Exporting snow cover statistics to glacier_snow_cover_exports Google Drive folder with file name: G219787E60289N_Sentinel-2_TOA_snow_cover_stats_2019-06-01_2019-10-31\n",
      "To monitor tasks, go to your GEE Task Manager: https://code.earthengine.google.com/tasks\n",
      "\n",
      " ('2020-06-01', '2020-10-31')\n",
      "Querying GEE for Sentinel-2_TOA image collection\n",
      "Classifying image collection\n",
      "Calculating snow cover statistics\n",
      "Exporting snow cover statistics to glacier_snow_cover_exports Google Drive folder with file name: G219787E60289N_Sentinel-2_TOA_snow_cover_stats_2020-06-01_2020-10-31\n",
      "To monitor tasks, go to your GEE Task Manager: https://code.earthengine.google.com/tasks\n",
      "\n",
      " ('2021-06-01', '2021-10-31')\n",
      "Querying GEE for Sentinel-2_TOA image collection\n",
      "Classifying image collection\n",
      "Calculating snow cover statistics\n",
      "Exporting snow cover statistics to glacier_snow_cover_exports Google Drive folder with file name: G219787E60289N_Sentinel-2_TOA_snow_cover_stats_2021-06-01_2021-10-31\n",
      "To monitor tasks, go to your GEE Task Manager: https://code.earthengine.google.com/tasks\n",
      "\n",
      " ('2022-06-01', '2022-10-31')\n",
      "Querying GEE for Sentinel-2_TOA image collection\n",
      "Classifying image collection\n",
      "Calculating snow cover statistics\n",
      "Exporting snow cover statistics to glacier_snow_cover_exports Google Drive folder with file name: G219787E60289N_Sentinel-2_TOA_snow_cover_stats_2022-06-01_2022-10-31\n",
      "To monitor tasks, go to your GEE Task Manager: https://code.earthengine.google.com/tasks\n",
      "\n",
      " ('2023-06-01', '2023-10-31')\n",
      "Querying GEE for Sentinel-2_TOA image collection\n",
      "Classifying image collection\n",
      "Calculating snow cover statistics\n",
      "Exporting snow cover statistics to glacier_snow_cover_exports Google Drive folder with file name: G219787E60289N_Sentinel-2_TOA_snow_cover_stats_2023-06-01_2023-10-31\n",
      "To monitor tasks, go to your GEE Task Manager: https://code.earthengine.google.com/tasks\n",
      "\n",
      " ('2024-06-01', '2024-10-31')\n",
      "Querying GEE for Sentinel-2_TOA image collection\n",
      "Classifying image collection\n",
      "Calculating snow cover statistics\n",
      "Exporting snow cover statistics to glacier_snow_cover_exports Google Drive folder with file name: G219787E60289N_Sentinel-2_TOA_snow_cover_stats_2024-06-01_2024-10-31\n",
      "To monitor tasks, go to your GEE Task Manager: https://code.earthengine.google.com/tasks\n",
      "\n",
      " ('2025-06-01', '2025-06-25')\n",
      "Querying GEE for Sentinel-2_TOA image collection\n",
      "Classifying image collection\n",
      "Calculating snow cover statistics\n",
      "Exporting snow cover statistics to glacier_snow_cover_exports Google Drive folder with file name: G219787E60289N_Sentinel-2_TOA_snow_cover_stats_2025-06-01_2025-06-25\n",
      "To monitor tasks, go to your GEE Task Manager: https://code.earthengine.google.com/tasks\n"
     ]
    }
   ],
   "source": [
    "dataset = \"Sentinel-2_TOA\"\n",
    "\n",
    "# Calculate the required image spatial resolution (scale) to stay within the GEE user memory limit.\n",
    "scale_required = utils.determine_required_image_scale(aoi, dataset)\n",
    "\n",
    "# Split the date range into separate annual date ranges to increase compute times.\n",
    "date_ranges_list = utils.split_date_range_by_year(dataset, date_start, date_end, month_start, month_end)\n",
    "\n",
    "# Run the workflow for each date range separately. \n",
    "for date_range in date_ranges_list:\n",
    "    print('\\n', date_range)\n",
    "\n",
    "    # Query GEE for imagery\n",
    "    image_collection = utils.query_gee_for_imagery(dataset, aoi, scale_required, date_range[0], date_range[1], month_start, month_end, \n",
    "                                                   min_aoi_coverage, mask_clouds)\n",
    "\n",
    "    # Classify image collection\n",
    "    classified_collection = utils.classify_image_collection(image_collection, dataset)\n",
    "\n",
    "    # Calculate snow cover statistics, export to Google Drive\n",
    "    task = utils.calculate_snow_cover_statistics(classified_collection, dem, aoi, scale=scale_required, out_folder=out_folder,\n",
    "                                                 file_name_prefix=f\"{glac_id}_{dataset}_snow_cover_stats_{date_range[0]}_{date_range[1]}\")\n"
   ]
  },
  {
   "cell_type": "markdown",
   "id": "bda52169",
   "metadata": {},
   "source": [
    "### Sentinel-2 Surface Reflectance (SR): 2019 onwards"
   ]
  },
  {
   "cell_type": "code",
   "execution_count": 24,
   "id": "635b8117",
   "metadata": {},
   "outputs": [
    {
     "data": {
      "text/html": [
       "\n",
       "            <style>\n",
       "                .geemap-dark {\n",
       "                    --jp-widgets-color: white;\n",
       "                    --jp-widgets-label-color: white;\n",
       "                    --jp-ui-font-color1: white;\n",
       "                    --jp-layout-color2: #454545;\n",
       "                    background-color: #383838;\n",
       "                }\n",
       "\n",
       "                .geemap-dark .jupyter-button {\n",
       "                    --jp-layout-color3: #383838;\n",
       "                }\n",
       "\n",
       "                .geemap-colab {\n",
       "                    background-color: var(--colab-primary-surface-color, white);\n",
       "                }\n",
       "\n",
       "                .geemap-colab .jupyter-button {\n",
       "                    --jp-layout-color3: var(--colab-primary-surface-color, white);\n",
       "                }\n",
       "            </style>\n",
       "            "
      ],
      "text/plain": [
       "<IPython.core.display.HTML object>"
      ]
     },
     "metadata": {},
     "output_type": "display_data"
    },
    {
     "name": "stdout",
     "output_type": "stream",
     "text": [
      "Estimated image size over AOI for Sentinel-2_SR: 795.32 MB\n",
      "Image size exceeds GEE's 10 MB limit. Using scale = 90 m\n",
      "\n",
      " ('2019-06-01', '2019-10-31')\n",
      "Querying GEE for Sentinel-2_SR image collection\n",
      "Classifying image collection\n",
      "Calculating snow cover statistics\n",
      "Exporting snow cover statistics to glacier_snow_cover_exports Google Drive folder with file name: G219787E60289N_Sentinel-2_SR_snow_cover_stats_2019-06-01_2019-10-31\n",
      "To monitor tasks, go to your GEE Task Manager: https://code.earthengine.google.com/tasks\n",
      "\n",
      " ('2020-06-01', '2020-10-31')\n",
      "Querying GEE for Sentinel-2_SR image collection\n",
      "Classifying image collection\n",
      "Calculating snow cover statistics\n",
      "Exporting snow cover statistics to glacier_snow_cover_exports Google Drive folder with file name: G219787E60289N_Sentinel-2_SR_snow_cover_stats_2020-06-01_2020-10-31\n",
      "To monitor tasks, go to your GEE Task Manager: https://code.earthengine.google.com/tasks\n",
      "\n",
      " ('2021-06-01', '2021-10-31')\n",
      "Querying GEE for Sentinel-2_SR image collection\n",
      "Classifying image collection\n",
      "Calculating snow cover statistics\n",
      "Exporting snow cover statistics to glacier_snow_cover_exports Google Drive folder with file name: G219787E60289N_Sentinel-2_SR_snow_cover_stats_2021-06-01_2021-10-31\n",
      "To monitor tasks, go to your GEE Task Manager: https://code.earthengine.google.com/tasks\n",
      "\n",
      " ('2022-06-01', '2022-10-31')\n",
      "Querying GEE for Sentinel-2_SR image collection\n",
      "Classifying image collection\n",
      "Calculating snow cover statistics\n",
      "Exporting snow cover statistics to glacier_snow_cover_exports Google Drive folder with file name: G219787E60289N_Sentinel-2_SR_snow_cover_stats_2022-06-01_2022-10-31\n",
      "To monitor tasks, go to your GEE Task Manager: https://code.earthengine.google.com/tasks\n",
      "\n",
      " ('2023-06-01', '2023-10-31')\n",
      "Querying GEE for Sentinel-2_SR image collection\n",
      "Classifying image collection\n",
      "Calculating snow cover statistics\n",
      "Exporting snow cover statistics to glacier_snow_cover_exports Google Drive folder with file name: G219787E60289N_Sentinel-2_SR_snow_cover_stats_2023-06-01_2023-10-31\n",
      "To monitor tasks, go to your GEE Task Manager: https://code.earthengine.google.com/tasks\n",
      "\n",
      " ('2024-06-01', '2024-10-31')\n",
      "Querying GEE for Sentinel-2_SR image collection\n",
      "Classifying image collection\n",
      "Calculating snow cover statistics\n",
      "Exporting snow cover statistics to glacier_snow_cover_exports Google Drive folder with file name: G219787E60289N_Sentinel-2_SR_snow_cover_stats_2024-06-01_2024-10-31\n",
      "To monitor tasks, go to your GEE Task Manager: https://code.earthengine.google.com/tasks\n",
      "\n",
      " ('2025-06-01', '2025-06-25')\n",
      "Querying GEE for Sentinel-2_SR image collection\n",
      "Classifying image collection\n",
      "Calculating snow cover statistics\n",
      "Exporting snow cover statistics to glacier_snow_cover_exports Google Drive folder with file name: G219787E60289N_Sentinel-2_SR_snow_cover_stats_2025-06-01_2025-06-25\n",
      "To monitor tasks, go to your GEE Task Manager: https://code.earthengine.google.com/tasks\n"
     ]
    }
   ],
   "source": [
    "dataset = \"Sentinel-2_SR\"\n",
    "\n",
    "# Calculate the required image spatial resolution (scale) to stay within the GEE user memory limit.\n",
    "scale_required = utils.determine_required_image_scale(aoi, dataset)\n",
    "\n",
    "# Split the date range into separate annual date ranges to increase compute times.\n",
    "date_ranges_list = utils.split_date_range_by_year(dataset, date_start, date_end, month_start, month_end)\n",
    "\n",
    "# Run the workflow for each date range separately. \n",
    "for date_range in date_ranges_list:\n",
    "    print('\\n', date_range)\n",
    "\n",
    "    # Query GEE for imagery\n",
    "    image_collection = utils.query_gee_for_imagery(dataset, aoi, scale_required, date_range[0], date_range[1], month_start, month_end, \n",
    "                                                   min_aoi_coverage, mask_clouds)\n",
    "\n",
    "    # Classify image collection\n",
    "    classified_collection = utils.classify_image_collection(image_collection, dataset)\n",
    "\n",
    "    # Calculate snow cover statistics, export to Google Drive\n",
    "    task = utils.calculate_snow_cover_statistics(classified_collection, dem, aoi, scale=scale_required, out_folder=out_folder,\n",
    "                                                 file_name_prefix=f\"{glac_id}_{dataset}_snow_cover_stats_{date_range[0]}_{date_range[1]}\")\n"
   ]
  },
  {
   "cell_type": "markdown",
   "id": "4c9aa464",
   "metadata": {},
   "source": [
    "### Landsat 8/9 SR: 2013 onwards"
   ]
  },
  {
   "cell_type": "code",
   "execution_count": 25,
   "id": "a7765329",
   "metadata": {},
   "outputs": [
    {
     "data": {
      "text/html": [
       "\n",
       "            <style>\n",
       "                .geemap-dark {\n",
       "                    --jp-widgets-color: white;\n",
       "                    --jp-widgets-label-color: white;\n",
       "                    --jp-ui-font-color1: white;\n",
       "                    --jp-layout-color2: #454545;\n",
       "                    background-color: #383838;\n",
       "                }\n",
       "\n",
       "                .geemap-dark .jupyter-button {\n",
       "                    --jp-layout-color3: #383838;\n",
       "                }\n",
       "\n",
       "                .geemap-colab {\n",
       "                    background-color: var(--colab-primary-surface-color, white);\n",
       "                }\n",
       "\n",
       "                .geemap-colab .jupyter-button {\n",
       "                    --jp-layout-color3: var(--colab-primary-surface-color, white);\n",
       "                }\n",
       "            </style>\n",
       "            "
      ],
      "text/plain": [
       "<IPython.core.display.HTML object>"
      ]
     },
     "metadata": {},
     "output_type": "display_data"
    },
    {
     "name": "stdout",
     "output_type": "stream",
     "text": [
      "Estimated image size over AOI for Landsat: 51.55 MB\n",
      "Image size exceeds GEE's 10 MB limit. Using scale = 70 m\n",
      "\n",
      " ('2013-06-01', '2013-10-31')\n",
      "Querying GEE for Landsat image collection\n",
      "Classifying image collection\n",
      "Calculating snow cover statistics\n",
      "Exporting snow cover statistics to glacier_snow_cover_exports Google Drive folder with file name: G219787E60289N_Landsat_snow_cover_stats_2013-06-01_2013-10-31\n",
      "To monitor tasks, go to your GEE Task Manager: https://code.earthengine.google.com/tasks\n",
      "\n",
      " ('2014-06-01', '2014-10-31')\n",
      "Querying GEE for Landsat image collection\n",
      "Classifying image collection\n",
      "Calculating snow cover statistics\n",
      "Exporting snow cover statistics to glacier_snow_cover_exports Google Drive folder with file name: G219787E60289N_Landsat_snow_cover_stats_2014-06-01_2014-10-31\n",
      "To monitor tasks, go to your GEE Task Manager: https://code.earthengine.google.com/tasks\n",
      "\n",
      " ('2015-06-01', '2015-10-31')\n",
      "Querying GEE for Landsat image collection\n",
      "Classifying image collection\n",
      "Calculating snow cover statistics\n",
      "Exporting snow cover statistics to glacier_snow_cover_exports Google Drive folder with file name: G219787E60289N_Landsat_snow_cover_stats_2015-06-01_2015-10-31\n",
      "To monitor tasks, go to your GEE Task Manager: https://code.earthengine.google.com/tasks\n",
      "\n",
      " ('2016-06-01', '2016-10-31')\n",
      "Querying GEE for Landsat image collection\n",
      "Classifying image collection\n",
      "Calculating snow cover statistics\n",
      "Exporting snow cover statistics to glacier_snow_cover_exports Google Drive folder with file name: G219787E60289N_Landsat_snow_cover_stats_2016-06-01_2016-10-31\n",
      "To monitor tasks, go to your GEE Task Manager: https://code.earthengine.google.com/tasks\n",
      "\n",
      " ('2017-06-01', '2017-10-31')\n",
      "Querying GEE for Landsat image collection\n",
      "Classifying image collection\n",
      "Calculating snow cover statistics\n",
      "Exporting snow cover statistics to glacier_snow_cover_exports Google Drive folder with file name: G219787E60289N_Landsat_snow_cover_stats_2017-06-01_2017-10-31\n",
      "To monitor tasks, go to your GEE Task Manager: https://code.earthengine.google.com/tasks\n",
      "\n",
      " ('2018-06-01', '2018-10-31')\n",
      "Querying GEE for Landsat image collection\n",
      "Classifying image collection\n",
      "Calculating snow cover statistics\n",
      "Exporting snow cover statistics to glacier_snow_cover_exports Google Drive folder with file name: G219787E60289N_Landsat_snow_cover_stats_2018-06-01_2018-10-31\n",
      "To monitor tasks, go to your GEE Task Manager: https://code.earthengine.google.com/tasks\n",
      "\n",
      " ('2019-06-01', '2019-10-31')\n",
      "Querying GEE for Landsat image collection\n",
      "Classifying image collection\n",
      "Calculating snow cover statistics\n",
      "Exporting snow cover statistics to glacier_snow_cover_exports Google Drive folder with file name: G219787E60289N_Landsat_snow_cover_stats_2019-06-01_2019-10-31\n",
      "To monitor tasks, go to your GEE Task Manager: https://code.earthengine.google.com/tasks\n",
      "\n",
      " ('2020-06-01', '2020-10-31')\n",
      "Querying GEE for Landsat image collection\n",
      "Classifying image collection\n",
      "Calculating snow cover statistics\n",
      "Exporting snow cover statistics to glacier_snow_cover_exports Google Drive folder with file name: G219787E60289N_Landsat_snow_cover_stats_2020-06-01_2020-10-31\n",
      "To monitor tasks, go to your GEE Task Manager: https://code.earthengine.google.com/tasks\n",
      "\n",
      " ('2021-06-01', '2021-10-31')\n",
      "Querying GEE for Landsat image collection\n",
      "Classifying image collection\n",
      "Calculating snow cover statistics\n",
      "Exporting snow cover statistics to glacier_snow_cover_exports Google Drive folder with file name: G219787E60289N_Landsat_snow_cover_stats_2021-06-01_2021-10-31\n",
      "To monitor tasks, go to your GEE Task Manager: https://code.earthengine.google.com/tasks\n",
      "\n",
      " ('2022-06-01', '2022-10-31')\n",
      "Querying GEE for Landsat image collection\n",
      "Classifying image collection\n",
      "Calculating snow cover statistics\n",
      "Exporting snow cover statistics to glacier_snow_cover_exports Google Drive folder with file name: G219787E60289N_Landsat_snow_cover_stats_2022-06-01_2022-10-31\n",
      "To monitor tasks, go to your GEE Task Manager: https://code.earthengine.google.com/tasks\n",
      "\n",
      " ('2023-06-01', '2023-10-31')\n",
      "Querying GEE for Landsat image collection\n",
      "Classifying image collection\n",
      "Calculating snow cover statistics\n",
      "Exporting snow cover statistics to glacier_snow_cover_exports Google Drive folder with file name: G219787E60289N_Landsat_snow_cover_stats_2023-06-01_2023-10-31\n",
      "To monitor tasks, go to your GEE Task Manager: https://code.earthengine.google.com/tasks\n",
      "\n",
      " ('2024-06-01', '2024-10-31')\n",
      "Querying GEE for Landsat image collection\n",
      "Classifying image collection\n",
      "Calculating snow cover statistics\n",
      "Exporting snow cover statistics to glacier_snow_cover_exports Google Drive folder with file name: G219787E60289N_Landsat_snow_cover_stats_2024-06-01_2024-10-31\n",
      "To monitor tasks, go to your GEE Task Manager: https://code.earthengine.google.com/tasks\n",
      "\n",
      " ('2025-06-01', '2025-06-25')\n",
      "Querying GEE for Landsat image collection\n",
      "Classifying image collection\n",
      "Calculating snow cover statistics\n",
      "Exporting snow cover statistics to glacier_snow_cover_exports Google Drive folder with file name: G219787E60289N_Landsat_snow_cover_stats_2025-06-01_2025-06-25\n",
      "To monitor tasks, go to your GEE Task Manager: https://code.earthengine.google.com/tasks\n"
     ]
    }
   ],
   "source": [
    "dataset = \"Landsat\"\n",
    "\n",
    "# Calculate the required image spatial resolution (scale) to stay within the GEE user memory limit.\n",
    "scale_required = utils.determine_required_image_scale(aoi, dataset)\n",
    "\n",
    "# Split the date range into separate annual date ranges to increase compute times.\n",
    "date_ranges_list = utils.split_date_range_by_year(dataset, date_start, date_end, month_start, month_end)\n",
    "\n",
    "# Run the workflow for each date range separately. \n",
    "for date_range in date_ranges_list:\n",
    "    print('\\n', date_range)\n",
    "\n",
    "    # Query GEE for imagery\n",
    "    image_collection = utils.query_gee_for_imagery(dataset, aoi, scale_required, date_range[0], date_range[1], month_start, month_end, \n",
    "                                                   min_aoi_coverage, mask_clouds)\n",
    "\n",
    "    # Classify image collection\n",
    "    classified_collection = utils.classify_image_collection(image_collection, dataset)\n",
    "\n",
    "    # Calculate snow cover statistics, export to Google Drive\n",
    "    task = utils.calculate_snow_cover_statistics(classified_collection, dem, aoi, scale=scale_required, out_folder=out_folder,\n",
    "                                                 file_name_prefix=f\"{glac_id}_{dataset}_snow_cover_stats_{date_range[0]}_{date_range[1]}\")\n"
   ]
  },
  {
   "cell_type": "markdown",
   "id": "d56faad9-f6f2-4c0c-aaaa-c2a506894c0b",
   "metadata": {},
   "source": [
    "## Test for checking statuses of all current tasks/operations\n",
    "\n",
    "RA 2025-06-25:\n",
    "\n",
    "GEE automatically has starts some jobs and leaves some pending... Maybe it manages a bunch of jobs submitted around the same time on its own? Will test again later by running several sites at the same time.\n",
    "\n",
    "If error occurs with too many ~simultaneous job submissions, could check how many current \"RUNNING\" and  \"PENDING\" tasks every minute or two, set a limit for number of tasks at a given time, and only start next one when current tasks are below that limit.\n",
    "\n",
    "Otherwise, maybe the number of simulataneous job submissions might not be an issue. 🤞"
   ]
  },
  {
   "cell_type": "code",
   "execution_count": 28,
   "id": "5b9acf58",
   "metadata": {},
   "outputs": [
    {
     "data": {
      "text/html": [
       "\n",
       "            <style>\n",
       "                .geemap-dark {\n",
       "                    --jp-widgets-color: white;\n",
       "                    --jp-widgets-label-color: white;\n",
       "                    --jp-ui-font-color1: white;\n",
       "                    --jp-layout-color2: #454545;\n",
       "                    background-color: #383838;\n",
       "                }\n",
       "\n",
       "                .geemap-dark .jupyter-button {\n",
       "                    --jp-layout-color3: #383838;\n",
       "                }\n",
       "\n",
       "                .geemap-colab {\n",
       "                    background-color: var(--colab-primary-surface-color, white);\n",
       "                }\n",
       "\n",
       "                .geemap-colab .jupyter-button {\n",
       "                    --jp-layout-color3: var(--colab-primary-surface-color, white);\n",
       "                }\n",
       "            </style>\n",
       "            "
      ],
      "text/plain": [
       "<IPython.core.display.HTML object>"
      ]
     },
     "metadata": {},
     "output_type": "display_data"
    },
    {
     "name": "stdout",
     "output_type": "stream",
     "text": [
      "Current statuses for all tasks:\n",
      "['PENDING', 'PENDING', 'PENDING', 'PENDING', 'PENDING', 'PENDING', 'PENDING', 'PENDING', 'PENDING', 'PENDING', 'PENDING', 'PENDING', 'PENDING', 'PENDING', 'PENDING', 'PENDING', 'PENDING', 'PENDING', 'PENDING', 'PENDING', 'PENDING', 'PENDING', 'PENDING', 'PENDING', 'PENDING', 'PENDING', 'PENDING', 'RUNNING', 'RUNNING', 'RUNNING', 'FAILED', 'FAILED', 'FAILED', 'FAILED', 'FAILED', 'FAILED', 'FAILED', 'FAILED', 'FAILED', 'FAILED']\n",
      "Number of current RUNNING tasks:  3\n",
      "Number of current PENDING tasks:  27\n"
     ]
    }
   ],
   "source": [
    "# Get statuses of all current tasks/operations\n",
    "task_statuses = [x['metadata']['state'] for x in ee.data.listOperations()]\n",
    "print('Current statuses for all tasks:')\n",
    "print(task_statuses)\n",
    "\n",
    "# Count number of \"RUNNING\" tasks\n",
    "running_count=0\n",
    "for status in task_statuses:\n",
    "    if status==\"RUNNING\":\n",
    "        running_count += 1\n",
    "print('Number of current RUNNING tasks: ', running_count)\n",
    "\n",
    "# Count number of \"PENDING\" tasks\n",
    "pending_count=0\n",
    "for status in task_statuses:\n",
    "    if status==\"PENDING\":\n",
    "        pending_count += 1\n",
    "print('Number of current PENDING tasks: ', pending_count)"
   ]
  },
  {
   "cell_type": "code",
   "execution_count": null,
   "id": "cf5d013b-bf71-4b7e-b018-93d6eead4695",
   "metadata": {},
   "outputs": [],
   "source": []
  }
 ],
 "metadata": {
  "kernelspec": {
   "display_name": "gscm_gee",
   "language": "python",
   "name": "gscm_gee"
  },
  "language_info": {
   "codemirror_mode": {
    "name": "ipython",
    "version": 3
   },
   "file_extension": ".py",
   "mimetype": "text/x-python",
   "name": "python",
   "nbconvert_exporter": "python",
   "pygments_lexer": "ipython3",
   "version": "3.11.13"
  }
 },
 "nbformat": 4,
 "nbformat_minor": 5
}
