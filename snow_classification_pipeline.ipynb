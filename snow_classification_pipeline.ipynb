{
 "cells": [
  {
   "cell_type": "markdown",
   "id": "679c57e8",
   "metadata": {},
   "source": [
    "# Classification pipeline for a single glacier\n",
    "\n",
    "Full glacier-snow-cover-mapping classification pipeline for Sentinel-2 TOA, Sentinel-2 SR, and Landsat 8/9 images. \n",
    "\n",
    "## Requirements:\n",
    "1. Google Earth Engine (GEE) account: used to query imagery and the DEM (if no DEM is provided). Sign up for a free account [here](https://earthengine.google.com/new_signup/). \n",
    "\n",
    "2. Google Drive folder: Create a folder where output snow cover statistics will be saved. Enter the name of this folder as the `out_folder` variable below. If you don't create the folder ahead of time, duplicates of the same folder will be created for each output file!\n",
    "\n",
    "## Notes on GEE job submissions\n",
    "\n",
    "GEE enforces [user quotas](https://developers.google.com/earth-engine/guides/usage) on memory usage (default = 10 MB per query) and the number of concurrent requests (default = 40). The workflow below mitigates the risk of exceeding these limits using the following strategies:\n",
    "\n",
    "1. __Limit single query size:__ The spatial resolution of imagery is adjusted to ensure individual images remain under 10 MB in memory. This typically affects only the largest glaciers. For example, the largest glacier in Alaska by area (Malaspina Glacier, ~3,500 km$^2$) requires resampling images to a coarser resolution to meet the memory constraint:\n",
    "    - Sentinel-2 imagery (12 bands used) is resampled to 280 m resolution.\n",
    "    - Landsat 8/9 (7 bands used) is resampled to 220 m resolution.\n",
    "\n",
    "2. __Split tasks into smaller date ranges:__ While GEE handles queued tasks efficiently, it's our job to manage the size of the individual jobs (i.e., image collections). To reduce task size, the date range is divided before running the workflow and submitting export tasks:\n",
    "    - For glaciers $<$ 1,000 km$^2$, the date range is split into annual intervals as needed.\n",
    "    - For glaciers $\\geq$ 1,000 km$^2$, the date range is split into monthly intervals, since the resulting images are much larger.\n"
   ]
  },
  {
   "cell_type": "markdown",
   "id": "2b90f0f8",
   "metadata": {},
   "source": [
    "## Define image search settings and paths"
   ]
  },
  {
   "cell_type": "code",
   "execution_count": 1,
   "id": "46d472ad",
   "metadata": {},
   "outputs": [
    {
     "name": "stderr",
     "output_type": "stream",
     "text": [
      "/Users/raineyaberle/opt/anaconda3/envs/gscm_gee/lib/python3.11/site-packages/geemap/conversion.py:23: UserWarning: pkg_resources is deprecated as an API. See https://setuptools.pypa.io/en/latest/pkg_resources.html. The pkg_resources package is slated for removal as early as 2025-11-30. Refrain from using this package or pin to Setuptools<81.\n",
      "  import pkg_resources\n"
     ]
    }
   ],
   "source": [
    "import os\n",
    "import ee\n",
    "import geemap\n",
    "import sys\n",
    "import numpy as np\n",
    "\n",
    "# -----Define Google Drive folder for outputs\n",
    "# Note: Make sure this folder already exists and is the only folder in your \"My Drive\" with that name. \n",
    "out_folder = 'glacier_snow_cover_exports'\n",
    "\n",
    "# -----Import pipeline utilities\n",
    "# Assumes pipeline_utils.py is in the same folder as this notebook\n",
    "script_path = os.getcwd()\n",
    "sys.path.append(script_path)\n",
    "import pipeline_utils as utils\n",
    "\n",
    "# -----Define image search settings\n",
    "# Date and month ranges (inclusive)\n",
    "date_start = '2013-06-01'\n",
    "date_end = '2025-06-25'\n",
    "month_start = 6\n",
    "month_end = 10\n",
    "# Minimum fill portion of the AOI (0–100), used to remove images after mosaicking by day. \n",
    "min_aoi_coverage = 70\n",
    "# Whether to mask clouds using the respective cloud mask via the geedim package\n",
    "mask_clouds = True"
   ]
  },
  {
   "cell_type": "markdown",
   "id": "2e1fe38a",
   "metadata": {},
   "source": [
    "## Authenticate and/or Initialize Google Earth Engine (GEE)\n",
    "\n",
    "Replace the project ID with your GEE project. Default = `ee-{GEE-username}`"
   ]
  },
  {
   "cell_type": "code",
   "execution_count": 2,
   "id": "c276471a",
   "metadata": {},
   "outputs": [
    {
     "data": {
      "text/html": [
       "\n",
       "            <style>\n",
       "                .geemap-dark {\n",
       "                    --jp-widgets-color: white;\n",
       "                    --jp-widgets-label-color: white;\n",
       "                    --jp-ui-font-color1: white;\n",
       "                    --jp-layout-color2: #454545;\n",
       "                    background-color: #383838;\n",
       "                }\n",
       "\n",
       "                .geemap-dark .jupyter-button {\n",
       "                    --jp-layout-color3: #383838;\n",
       "                }\n",
       "\n",
       "                .geemap-colab {\n",
       "                    background-color: var(--colab-primary-surface-color, white);\n",
       "                }\n",
       "\n",
       "                .geemap-colab .jupyter-button {\n",
       "                    --jp-layout-color3: var(--colab-primary-surface-color, white);\n",
       "                }\n",
       "            </style>\n",
       "            "
      ],
      "text/plain": [
       "<IPython.core.display.HTML object>"
      ]
     },
     "metadata": {},
     "output_type": "display_data"
    }
   ],
   "source": [
    "# project_id = \"snow-cover-mapping-463217\"\n",
    "project_id = \"ee-raineyaberle\"\n",
    "\n",
    "try:\n",
    "    ee.Initialize(project=project_id)\n",
    "except:\n",
    "    ee.Authenticate()\n",
    "    ee.Initialize(project=project_id)"
   ]
  },
  {
   "cell_type": "markdown",
   "id": "2730e1cf",
   "metadata": {},
   "source": [
    "## Select the Area of Interest (AOI) from the GLIMS dataset\n",
    "\n",
    "This cell will plot the GLIMS dataset on a map. To find a glacier, click on the wrench in the upper right toolbox of the map, and use the \"Inspector\" to click on a polygon and view the its properties. Right click on the \"glac_id\" property to highlight and then copy. Replace the `glac_id` variable below with your selected site. "
   ]
  },
  {
   "cell_type": "code",
   "execution_count": 3,
   "id": "6b29f48c",
   "metadata": {},
   "outputs": [
    {
     "data": {
      "text/html": [
       "\n",
       "            <style>\n",
       "                .geemap-dark {\n",
       "                    --jp-widgets-color: white;\n",
       "                    --jp-widgets-label-color: white;\n",
       "                    --jp-ui-font-color1: white;\n",
       "                    --jp-layout-color2: #454545;\n",
       "                    background-color: #383838;\n",
       "                }\n",
       "\n",
       "                .geemap-dark .jupyter-button {\n",
       "                    --jp-layout-color3: #383838;\n",
       "                }\n",
       "\n",
       "                .geemap-colab {\n",
       "                    background-color: var(--colab-primary-surface-color, white);\n",
       "                }\n",
       "\n",
       "                .geemap-colab .jupyter-button {\n",
       "                    --jp-layout-color3: var(--colab-primary-surface-color, white);\n",
       "                }\n",
       "            </style>\n",
       "            "
      ],
      "text/plain": [
       "<IPython.core.display.HTML object>"
      ]
     },
     "metadata": {},
     "output_type": "display_data"
    },
    {
     "name": "stdout",
     "output_type": "stream",
     "text": [
      "Glacier ID used for output file names: G219787E60289N\n"
     ]
    }
   ],
   "source": [
    "# Load the GLIMS dataset, add to the map\n",
    "glims = ee.FeatureCollection('GLIMS/20230607')\n",
    "\n",
    "# Select your study site from the GLIMS dataset\n",
    "# glac_id = 'G211100E60420N'\n",
    "# aoi = glims.filter(ee.Filter.eq('glac_id', glac_id))\n",
    "\n",
    "# Test with the largest AK glacier (Malaspina)\n",
    "glims_ak = (glims.filter(ee.Filter.eq('gtng_o1reg', 1))) # filter to AK\n",
    "glims_ak_largest = glims_ak.filter(ee.Filter.eq('area', glims_ak.aggregate_max('area'))) # Get the largest AK glacier\n",
    "aoi = glims_ak_largest\n",
    "glac_id = aoi.aggregate_array('glac_id').getInfo()[0] # use GLIMS ID for output file names\n",
    "print(\"Glacier ID used for output file names:\", glac_id)\n",
    "                                 \n",
    "# Merge all geometries to use as the AOI \n",
    "aoi = aoi.union().geometry()\n",
    "\n",
    "# Create a Map\n",
    "# Map = geemap.Map()\n",
    "# Map.addLayer(glims, {'color': 'blue', 'opacity':  0.5}, 'GLIMS/20230607')\n",
    "# Map.addLayer(aoi, {'color': 'orange', 'opacity': 0.8}, 'AOI')\n",
    "# Map.centerObject(aoi)\n",
    "# Map"
   ]
  },
  {
   "cell_type": "markdown",
   "id": "40ca915f",
   "metadata": {},
   "source": [
    "## Load the Digital Elevation Model (DEM)\n",
    "\n",
    "Default: use the ArcticDEM Mosaic where there is > 90 % coverage. Otherwise, use the NASADEM. For sites that use the ArcticDEM Mosaic, elevations are reprojected to the EGM96 geoid to match the vertical datum of NASADEM. "
   ]
  },
  {
   "cell_type": "code",
   "execution_count": 4,
   "id": "2fe69f32",
   "metadata": {},
   "outputs": [
    {
     "data": {
      "text/html": [
       "\n",
       "            <style>\n",
       "                .geemap-dark {\n",
       "                    --jp-widgets-color: white;\n",
       "                    --jp-widgets-label-color: white;\n",
       "                    --jp-ui-font-color1: white;\n",
       "                    --jp-layout-color2: #454545;\n",
       "                    background-color: #383838;\n",
       "                }\n",
       "\n",
       "                .geemap-dark .jupyter-button {\n",
       "                    --jp-layout-color3: #383838;\n",
       "                }\n",
       "\n",
       "                .geemap-colab {\n",
       "                    background-color: var(--colab-primary-surface-color, white);\n",
       "                }\n",
       "\n",
       "                .geemap-colab .jupyter-button {\n",
       "                    --jp-layout-color3: var(--colab-primary-surface-color, white);\n",
       "                }\n",
       "            </style>\n",
       "            "
      ],
      "text/plain": [
       "<IPython.core.display.HTML object>"
      ]
     },
     "metadata": {},
     "output_type": "display_data"
    },
    {
     "name": "stdout",
     "output_type": "stream",
     "text": [
      "\n",
      "Querying GEE for DEM\n",
      "ArcticDEM coverage = 100 %\n",
      "Using ArcticDEM Mosaic\n"
     ]
    }
   ],
   "source": [
    "# Query GEE for DEM\n",
    "dem = utils.query_gee_for_dem(aoi)\n",
    "\n",
    "# # Add DEM to map\n",
    "# # grab min and max elevations for color limits\n",
    "# minMax = dem.reduceRegion(reducer=ee.Reducer.minMax(),\n",
    "#                           geometry=aoi, \n",
    "#                           scale=30,\n",
    "#                           maxPixels=1e9,\n",
    "#                           bestEffort=True)\n",
    "# elev_min = minMax.get('elevation_min')\n",
    "# elev_max = minMax.get('elevation_max')\n",
    "# print(f'Elevation range = {int(elev_min.getInfo())} to {int(elev_max.getInfo())} m')\n",
    "# # colors based on the \"terrain\" palette from matplotlib\n",
    "# palette = ['#333399', '#0d7fe5', '#00be90','#55dd77','#c6f48e','#e3db8a','#aa926b','#8e6e67','#c6b6b3','#ffffff']\n",
    "# Map.addLayer(dem, {'palette': palette, 'min': elev_min, 'max': elev_max}, 'DEM')"
   ]
  },
  {
   "cell_type": "markdown",
   "id": "f8eaaabd",
   "metadata": {},
   "source": [
    "## Run the classification pipeline for each dataset"
   ]
  },
  {
   "cell_type": "code",
   "execution_count": 8,
   "id": "e501a0c4-db05-42b9-8abc-8b765d121ccd",
   "metadata": {},
   "outputs": [
    {
     "data": {
      "text/html": [
       "\n",
       "            <style>\n",
       "                .geemap-dark {\n",
       "                    --jp-widgets-color: white;\n",
       "                    --jp-widgets-label-color: white;\n",
       "                    --jp-ui-font-color1: white;\n",
       "                    --jp-layout-color2: #454545;\n",
       "                    background-color: #383838;\n",
       "                }\n",
       "\n",
       "                .geemap-dark .jupyter-button {\n",
       "                    --jp-layout-color3: #383838;\n",
       "                }\n",
       "\n",
       "                .geemap-colab {\n",
       "                    background-color: var(--colab-primary-surface-color, white);\n",
       "                }\n",
       "\n",
       "                .geemap-colab .jupyter-button {\n",
       "                    --jp-layout-color3: var(--colab-primary-surface-color, white);\n",
       "                }\n",
       "            </style>\n",
       "            "
      ],
      "text/plain": [
       "<IPython.core.display.HTML object>"
      ]
     },
     "metadata": {},
     "output_type": "display_data"
    },
    {
     "name": "stdout",
     "output_type": "stream",
     "text": [
      "Querying GEE for Sentinel-2_TOA image collection\n",
      "Classifying image collection\n",
      "Calculating snow cover statistics\n",
      "Exporting snow cover statistics to glacier_snow_cover_exports Google Drive folder with file name: G219787E60289N_Sentinel-2_TOA_snow_cover_stats_2022-09-03_2022-09-10_333333km2\n",
      "To monitor tasks, see your Google Cloud Console or GEE Task Manager: https://code.earthengine.google.com/tasks\n"
     ]
    }
   ],
   "source": [
    "### RA 2025-06-26: TESTING THE IMAGE SCALES FOR MALASPINA (function not currently calculating correctly)\n",
    "## Scales tested for a 1-month range:\n",
    "# - 1 km2: FAILED\n",
    "# - 5 km2: FAILED\n",
    "# - 10 km2: FAILED\n",
    "# - 100 km2: FAILED\n",
    "\n",
    "# Try a one week range\n",
    "# - 100 km2: FAILED\n",
    "# - 1000 km2: SUCCESS (Woof)\n",
    "dataset = \"Sentinel-2_TOA\"\n",
    "date_start = \"2022-09-03\"\n",
    "date_end = \"2022-09-10\"\n",
    "\n",
    "# Calculate the required image spatial resolution (scale) to stay within the GEE user memory limit.\n",
    "# scale_required = utils.determine_required_image_scale(aoi, dataset)\n",
    "scale_required = 1000e3\n",
    "\n",
    "image_collection = utils.query_gee_for_imagery(dataset, aoi, scale_required, date_start, date_end, month_start, month_end, \n",
    "                                                min_aoi_coverage, mask_clouds)\n",
    "\n",
    "classified_collection = utils.classify_image_collection(image_collection, dataset)\n",
    "\n",
    "task = utils.calculate_snow_cover_statistics(classified_collection, dem, aoi, scale=scale_required, out_folder=out_folder,\n",
    "                                             file_name_prefix=f\"{glac_id}_{dataset}_snow_cover_stats_{date_start}_{date_end}_{int(scale_required/3)}km2\")\n"
   ]
  },
  {
   "cell_type": "markdown",
   "id": "5cb54d54",
   "metadata": {},
   "source": [
    "### Sentinel-2 Top of Atmosphere (TOA): 2016 onwards"
   ]
  },
  {
   "cell_type": "code",
   "execution_count": null,
   "id": "775d2a91",
   "metadata": {
    "scrolled": true
   },
   "outputs": [],
   "source": [
    "dataset = \"Sentinel-2_TOA\"\n",
    "utils.run_classification_pipeline(aoi, dem, dataset, date_start, date_end, month_start, month_end, \n",
    "                                  min_aoi_coverage, mask_clouds, out_folder, glac_id)"
   ]
  },
  {
   "cell_type": "markdown",
   "id": "bda52169",
   "metadata": {},
   "source": [
    "### Sentinel-2 Surface Reflectance (SR): 2019 onwards"
   ]
  },
  {
   "cell_type": "code",
   "execution_count": null,
   "id": "635b8117",
   "metadata": {},
   "outputs": [],
   "source": [
    "dataset = \"Sentinel-2_SR\"\n",
    "utils.run_classification_pipeline(aoi, dem, dataset, date_start, date_end, month_start, month_end, \n",
    "                                  min_aoi_coverage, mask_clouds, out_folder, glac_id)"
   ]
  },
  {
   "cell_type": "markdown",
   "id": "4c9aa464",
   "metadata": {},
   "source": [
    "### Landsat 8/9 SR: 2013 onwards"
   ]
  },
  {
   "cell_type": "code",
   "execution_count": null,
   "id": "a7765329",
   "metadata": {},
   "outputs": [],
   "source": [
    "dataset = \"Landsat\"\n",
    "utils.run_classification_pipeline(aoi, dem, dataset, date_start, date_end, month_start, month_end, \n",
    "                                  min_aoi_coverage, mask_clouds, out_folder, glac_id)"
   ]
  },
  {
   "cell_type": "markdown",
   "id": "d56faad9-f6f2-4c0c-aaaa-c2a506894c0b",
   "metadata": {},
   "source": [
    "## Test for checking statuses of all current tasks/operations\n",
    "\n",
    "RA 2025-06-25:\n",
    "\n",
    "GEE automatically starts some jobs and leaves some pending, so I THINK simulataneous job submissions are managed automatically. 🤞"
   ]
  },
  {
   "cell_type": "code",
   "execution_count": null,
   "id": "5b9acf58",
   "metadata": {},
   "outputs": [],
   "source": [
    "# Get statuses of all current tasks/operations\n",
    "task_statuses = [x['metadata']['state'] for x in ee.data.listOperations()]\n",
    "print('Current statuses for all tasks:')\n",
    "print(task_statuses, '\\n')\n",
    "\n",
    "statuses = ['RUNNING', 'PENDING', 'SUCCEEDED', 'FAILED']\n",
    "\n",
    "for status in statuses:\n",
    "    count = 0\n",
    "    for task in task_statuses:\n",
    "        if task == status:\n",
    "            count += 1\n",
    "    print(f\"Number of {status} tasks = {count}\")\n"
   ]
  },
  {
   "cell_type": "code",
   "execution_count": null,
   "id": "cf5d013b-bf71-4b7e-b018-93d6eead4695",
   "metadata": {},
   "outputs": [],
   "source": []
  }
 ],
 "metadata": {
  "kernelspec": {
   "display_name": "gscm_gee",
   "language": "python",
   "name": "gscm_gee"
  },
  "language_info": {
   "codemirror_mode": {
    "name": "ipython",
    "version": 3
   },
   "file_extension": ".py",
   "mimetype": "text/x-python",
   "name": "python",
   "nbconvert_exporter": "python",
   "pygments_lexer": "ipython3",
   "version": "3.11.13"
  }
 },
 "nbformat": 4,
 "nbformat_minor": 5
}
